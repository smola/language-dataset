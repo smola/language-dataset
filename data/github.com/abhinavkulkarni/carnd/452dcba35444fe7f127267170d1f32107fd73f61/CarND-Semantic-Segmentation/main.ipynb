{
 "cells": [
  {
   "cell_type": "code",
   "execution_count": 1,
   "metadata": {},
   "outputs": [
    {
     "name": "stderr",
     "output_type": "stream",
     "text": [
      "/home/akulkarni/miniconda3/envs/py3.5/lib/python3.5/site-packages/h5py/__init__.py:36: FutureWarning: Conversion of the second argument of issubdtype from `float` to `np.floating` is deprecated. In future, it will be treated as `np.float64 == np.dtype(float).type`.\n",
      "  from ._conv import register_converters as _register_converters\n"
     ]
    }
   ],
   "source": [
    "import os.path\n",
    "import tensorflow as tf\n",
    "import helper\n",
    "import warnings\n",
    "from distutils.version import LooseVersion\n",
    "import project_tests as tests"
   ]
  },
  {
   "cell_type": "code",
   "execution_count": 2,
   "metadata": {},
   "outputs": [
    {
     "name": "stdout",
     "output_type": "stream",
     "text": [
      "TensorFlow Version: 1.4.0\n",
      "Default GPU Device: /device:GPU:0\n"
     ]
    }
   ],
   "source": [
    "# Check TensorFlow Version\n",
    "assert LooseVersion(tf.__version__) >= LooseVersion('1.0'), 'Please use TensorFlow version 1.0 or newer.  You are using {}'.format(tf.__version__)\n",
    "print('TensorFlow Version: {}'.format(tf.__version__))\n",
    "\n",
    "# Check for a GPU\n",
    "if not tf.test.gpu_device_name():\n",
    "    warnings.warn('No GPU found. Please use a GPU to train your neural network.')\n",
    "else:\n",
    "    print('Default GPU Device: {}'.format(tf.test.gpu_device_name()))\n",
    "\n",
    "KEEP_PROB = .9\n",
    "LEARNING_RATE = 1e-4\n",
    "EPOCHS = 20\n",
    "BATCH_SIZE = 2"
   ]
  },
  {
   "cell_type": "code",
   "execution_count": 3,
   "metadata": {},
   "outputs": [
    {
     "name": "stdout",
     "output_type": "stream",
     "text": [
      "Tests Passed\n"
     ]
    }
   ],
   "source": [
    "def load_vgg(sess, vgg_path):\n",
    "    \"\"\"\n",
    "    Load Pretrained VGG Model into TensorFlow.\n",
    "    :param sess: TensorFlow Session\n",
    "    :param vgg_path: Path to vgg folder, containing \"variables/\" and \"saved_model.pb\"\n",
    "    :return: Tuple of Tensors from VGG model (image_input, keep_prob, layer3, layer4, layer7)\n",
    "    \"\"\"\n",
    "    vgg_tag = 'vgg16'\n",
    "    vgg_input_tensor_name = 'image_input:0'\n",
    "    vgg_keep_prob_tensor_name = 'keep_prob:0'\n",
    "    vgg_layer3_out_tensor_name = 'layer3_out:0'\n",
    "    vgg_layer4_out_tensor_name = 'layer4_out:0'\n",
    "    vgg_layer7_out_tensor_name = 'layer7_out:0'\n",
    "    \n",
    "    tf.saved_model.loader.load(sess, [vgg_tag], vgg_path)\n",
    "    graph = tf.get_default_graph()\n",
    "    image_input = graph.get_tensor_by_name(vgg_input_tensor_name)\n",
    "    keep_prob = graph.get_tensor_by_name(vgg_keep_prob_tensor_name)\n",
    "    layer3 = graph.get_tensor_by_name(vgg_layer3_out_tensor_name)\n",
    "    layer4 = graph.get_tensor_by_name(vgg_layer4_out_tensor_name)\n",
    "    layer7 = graph.get_tensor_by_name(vgg_layer7_out_tensor_name)\n",
    "    \n",
    "    return (image_input, keep_prob, layer3, layer4, layer7)\n",
    "tests.test_load_vgg(load_vgg, tf)"
   ]
  },
  {
   "cell_type": "code",
   "execution_count": 4,
   "metadata": {},
   "outputs": [
    {
     "name": "stdout",
     "output_type": "stream",
     "text": [
      "Tests Passed\n"
     ]
    }
   ],
   "source": [
    "def layers(layer3, layer4, layer7, num_classes):\n",
    "    \"\"\"\n",
    "    Create the layers for a fully convolutional network.  Build skip-layers using the vgg layers.\n",
    "    :param layer3: TF Tensor for VGG Layer 3 output\n",
    "    :param layer4: TF Tensor for VGG Layer 4 output\n",
    "    :param layer7: TF Tensor for VGG Layer 7 output\n",
    "    :param num_classes: Number of classes to classify\n",
    "    :return: The Tensor for the last layer of output\n",
    "    \"\"\"\n",
    "    kernel_regularizer = tf.contrib.layers.l2_regularizer(1e-3)\n",
    "    kernel_initializer = tf.contrib.layers.xavier_initializer_conv2d()\n",
    "    \n",
    "    # First freeze the VGG-16 model encoder layers\n",
    "    # We are only going to train the decoder layers\n",
    "    # in the interest of time and quick iteration\n",
    "    layer3 = tf.stop_gradient(layer3)\n",
    "    layer4 = tf.stop_gradient(layer4)\n",
    "    layer7 = tf.stop_gradient(layer7)\n",
    "    \n",
    "    # The model below is replicated from the original FCN-8 model by the authors of\n",
    "    # https://arxiv.org/abs/1411.4038\n",
    "    # The model is described here \n",
    "    # https://github.com/shelhamer/fcn.berkeleyvision.org/blob/master/voc-fcn8s-atonce/net.py\n",
    "    # Note especially the hardcoded values of scaling of pool3 and pool4 layers\n",
    "    # before fusing and susequent upsampling\n",
    "    \n",
    "    # Now the decoder part begins\n",
    "    # First perform 1x1 convolutions on frozen layer3, layer4 and layer7 tensors\n",
    "    layer3_1x1 = tf.layers.conv2d(layer3, num_classes, 1, padding='SAME', \n",
    "                                  kernel_regularizer=kernel_regularizer, kernel_initializer=kernel_initializer,\n",
    "                                  name='layer3_conv_1x1')\n",
    "    layer4_1x1 = tf.layers.conv2d(layer4, num_classes, 1, padding='SAME', \n",
    "                                  kernel_regularizer=kernel_regularizer, kernel_initializer=kernel_initializer,\n",
    "                                  name='layer4_conv_1x1')\n",
    "    layer7_1x1 = tf.layers.conv2d(layer7, num_classes, 1, padding='SAME', \n",
    "                                  kernel_regularizer=kernel_regularizer, kernel_initializer=kernel_initializer,\n",
    "                                  name='fc7_conv_1x1')\n",
    "    \n",
    "    # 2x upsample\n",
    "    fuse = layer7_1x1\n",
    "    output = tf.layers.conv2d_transpose(fuse, num_classes, 4, 2, padding='SAME', \n",
    "                                        kernel_regularizer=kernel_regularizer, kernel_initializer=kernel_initializer,\n",
    "                                        name='fc7_conv_transpose')\n",
    "    # Fuse with layer4_1x1\n",
    "    scale_factor = 1e-2\n",
    "    fuse = output + layer4_1x1*scale_factor\n",
    "    \n",
    "    # 2x upsample\n",
    "    output = tf.layers.conv2d_transpose(fuse, num_classes, 4, 2, padding='SAME', \n",
    "                                        kernel_regularizer=kernel_regularizer, kernel_initializer=kernel_initializer, \n",
    "                                        name='layer4_conv_transpose')\n",
    "    # Fuse with layer3_1x1\n",
    "    scale_factor = 1e-4\n",
    "    fuse = output + layer3_1x1*scale_factor\n",
    "    \n",
    "    # 8x upsample\n",
    "    output = tf.layers.conv2d_transpose(fuse, num_classes, 16, 8, padding='SAME', \n",
    "                                        kernel_regularizer=kernel_regularizer, kernel_initializer=kernel_initializer, \n",
    "                                        name='layer3_conv_transpose')\n",
    "\n",
    "    return output\n",
    "tests.test_layers(layers)"
   ]
  },
  {
   "cell_type": "code",
   "execution_count": 5,
   "metadata": {},
   "outputs": [
    {
     "name": "stdout",
     "output_type": "stream",
     "text": [
      "Tests Passed\n"
     ]
    }
   ],
   "source": [
    "def optimize(nn_last_layer, correct_label, learning_rate, num_classes):\n",
    "    \"\"\"\n",
    "    Build the TensorFLow loss and optimizer operations.\n",
    "    :param nn_last_layer: TF Tensor of the last layer in the neural network\n",
    "    :param correct_label: TF Placeholder for the correct label image\n",
    "    :param learning_rate: TF Placeholder for the learning rate\n",
    "    :param num_classes: Number of classes to classify\n",
    "    :return: Tuple of (logits, train_op, cross_entropy_loss)\n",
    "    \"\"\"\n",
    "    with tf.name_scope('optimizer') as scope:\n",
    "        logits = tf.reshape(nn_last_layer, [-1, num_classes])\n",
    "        cross_entropy_loss = tf.reduce_mean(tf.nn.softmax_cross_entropy_with_logits(logits=logits, labels=correct_label))\n",
    "        reg_losses = []\n",
    "        for scope in ['fc7_conv_1x1', 'fc7_conv_transpose',\n",
    "                      'layer4_conv_1x1', 'layer4_conv_transpose',\n",
    "                      'layer3_conv_1x1', 'layer3_conv_transpose']:\n",
    "            for reg_loss in tf.get_collection(tf.GraphKeys.REGULARIZATION_LOSSES, scope=scope):\n",
    "                cross_entropy_loss += reg_loss\n",
    "        \n",
    "        optimizer = tf.train.AdamOptimizer(learning_rate=learning_rate)\n",
    "        train_op = optimizer.minimize(cross_entropy_loss)\n",
    "        \n",
    "        return logits, train_op, cross_entropy_loss\n",
    "tests.test_optimize(optimize)"
   ]
  },
  {
   "cell_type": "code",
   "execution_count": 6,
   "metadata": {},
   "outputs": [
    {
     "name": "stdout",
     "output_type": "stream",
     "text": [
      "INFO:tensorflow:Restoring parameters from b'./data/vgg/variables/variables'\n"
     ]
    }
   ],
   "source": [
    "def train_nn(sess, epochs, batch_size, get_batches_fn, train_op, cross_entropy_loss, input_image,\n",
    "             correct_label, keep_prob, learning_rate):\n",
    "    \"\"\"\n",
    "    Train neural network and print out the loss during training.\n",
    "    :param sess: TF Session\n",
    "    :param epochs: Number of epochs\n",
    "    :param batch_size: Batch size\n",
    "    :param get_batches_fn: Function to get batches of training data.  Call using get_batches_fn(batch_size)\n",
    "    :param train_op: TF Operation to train the neural network\n",
    "    :param cross_entropy_loss: TF Tensor for the amount of loss\n",
    "    :param input_image: TF Placeholder for input images\n",
    "    :param correct_label: TF Placeholder for label images\n",
    "    :param keep_prob: TF Placeholder for dropout keep probability\n",
    "    :param learning_rate: TF Placeholder for learning rate\n",
    "    \"\"\"    \n",
    "    for epoch in range(epochs):\n",
    "        losses = []\n",
    "        for images, labels in get_batches_fn(batch_size):\n",
    "            loss, _ = sess.run([cross_entropy_loss, train_op], \n",
    "                               feed_dict={input_image:images, \n",
    "                                          correct_label:labels, \n",
    "                                          keep_prob:KEEP_PROB,\n",
    "                                          learning_rate:LEARNING_RATE})\n",
    "            losses.append(loss)\n",
    "        loss = sum(losses)/len(losses)\n",
    "        print('Epoch: {:3} Loss: {:.4E}'.format(epoch, loss))\n",
    "tests.test_train_nn(train_nn)"
   ]
  },
  {
   "cell_type": "code",
   "execution_count": 7,
   "metadata": {},
   "outputs": [],
   "source": [
    "def run():\n",
    "    num_classes = 2    \n",
    "    image_shape = (160, 576)\n",
    "    data_dir = './data'\n",
    "    runs_dir = './runs'\n",
    "    tests.test_for_kitti_dataset(data_dir)\n",
    "\n",
    "    # Download pretrained vgg model\n",
    "    helper.maybe_download_pretrained_vgg(data_dir)\n",
    "\n",
    "    # OPTIONAL: Train and Inference on the cityscapes dataset instead of the Kitti dataset.\n",
    "    # You'll need a GPU with at least 10 teraFLOPS to train on.\n",
    "    #  https://www.cityscapes-dataset.com/\n",
    "\n",
    "    with tf.Session() as sess:\n",
    "        # Path to vgg model\n",
    "        vgg_path = os.path.join(data_dir, 'vgg')\n",
    "        # Create function to get batches\n",
    "        get_batches_fn = helper.gen_batch_function(os.path.join(data_dir, 'data_road/training'), image_shape)\n",
    "\n",
    "        # OPTIONAL: Augment Images for better results\n",
    "        #  https://datascience.stackexchange.com/questions/5224/how-to-prepare-augment-images-for-neural-network\n",
    "\n",
    "        # Build NN using load_vgg, layers, and optimize function\n",
    "        image_input, keep_prob, layer3, layer4, layer7 = load_vgg(sess, vgg_path)\n",
    "        output = layers(layer3, layer4, layer7, num_classes)\n",
    "        \n",
    "        correct_label = tf.placeholder(tf.int32)\n",
    "        learning_rate = tf.placeholder(tf.float32)\n",
    "        logits, train_op, cross_entropy_loss = optimize(output, correct_label, learning_rate, num_classes)\n",
    "                \n",
    "        # Initialize the variables of the decoder and optimizer\n",
    "        variables = []\n",
    "        for scope in ['fc7_conv_1x1', 'fc7_conv_transpose',\n",
    "                      'layer4_conv_1x1', 'layer4_conv_transpose',\n",
    "                      'layer3_conv_1x1', 'layer3_conv_transpose', \n",
    "                      'optimizer']:\n",
    "            variables.extend(tf.get_collection(tf.GraphKeys.GLOBAL_VARIABLES, scope=scope))\n",
    "        init = tf.variables_initializer(variables)\n",
    "        _ = sess.run(init)\n",
    "        \n",
    "        # Train NN using the train_nn function\n",
    "        train_nn(sess, EPOCHS, BATCH_SIZE, get_batches_fn, train_op, cross_entropy_loss, image_input,\n",
    "                 correct_label, keep_prob, learning_rate)\n",
    "                    \n",
    "        # TODO: Save inference data using helper.save_inference_samples\n",
    "        helper.save_inference_samples(runs_dir, data_dir, sess, image_shape, logits, keep_prob, image_input)\n",
    "\n",
    "        # OPTIONAL: Apply the trained model to a video"
   ]
  },
  {
   "cell_type": "code",
   "execution_count": 8,
   "metadata": {},
   "outputs": [],
   "source": [
    "if __name__ == '__main__':\n",
    "    run()"
   ]
  }
 ],
 "metadata": {
  "kernelspec": {
   "display_name": "Python (py3.5)",
   "language": "python",
   "name": "py3.5"
  },
  "language_info": {
   "codemirror_mode": {
    "name": "ipython",
    "version": 3
   },
   "file_extension": ".py",
   "mimetype": "text/x-python",
   "name": "python",
   "nbconvert_exporter": "python",
   "pygments_lexer": "ipython3",
   "version": "3.5.4"
  }
 },
 "nbformat": 4,
 "nbformat_minor": 2
}
