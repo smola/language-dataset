{
 "cells": [
  {
   "cell_type": "code",
   "execution_count": 76,
   "metadata": {},
   "outputs": [],
   "source": [
    "from functools import partial\n",
    "from geopy.geocoders import Nominatim\n",
    "from datetime import timedelta, datetime\n",
    "\n",
    "from sklearn import datasets\n",
    "from sklearn.cluster import KMeans\n",
    "\n",
    "from scipy.cluster.hierarchy import linkage, dendrogram\n",
    "\n",
    "import random, pandas as pd\n",
    "import matplotlib.pyplot as plt"
   ]
  },
  {
   "cell_type": "code",
   "execution_count": 109,
   "metadata": {},
   "outputs": [
    {
     "data": {
      "image/png": "[encoded data removed]",
      "text/plain": [
       "<Figure size 432x288 with 1 Axes>"
      ]
     },
     "metadata": {
      "needs_background": "light"
     },
     "output_type": "display_data"
    }
   ],
   "source": [
    "orders = pd.read_excel('dataset_orders_final_new.xlsx')\n",
    "\n",
    "clust_orders = orders[['latitude to','longtitude to','rapid']].copy()\n",
    "clust_orders = clust_orders[clust_orders['rapid'] == 0]\n",
    "clust_orders = clust_orders.drop(['rapid'], axis=1).reset_index()\n",
    "clust_orders['latitude to'] = (clust_orders['latitude to'] - 55)*10\n",
    "clust_orders['longtitude to'] = (clust_orders['longtitude to'] - 38)*10\n",
    "\n",
    "# clust_orders\n",
    "plt.plot(clust_orders['latitude to'].values, clust_orders['longtitude to'].values, 'o', color='black');"
   ]
  },
  {
   "cell_type": "code",
   "execution_count": 104,
   "metadata": {},
   "outputs": [
    {
     "data": {
      "image/png": "[encoded data removed]",
      "text/plain": [
       "<Figure size 432x288 with 1 Axes>"
      ]
     },
     "metadata": {
      "needs_background": "light"
     },
     "output_type": "display_data"
    }
   ],
   "source": [
    "\n",
    "# Извлекаем измерения как массив NumPy\n",
    "samples = clust_orders.values\n",
    "\n",
    "# Реализация иерархической кластеризации при помощи функции linkage\n",
    "mergings = linkage(samples, method='complete')\n",
    "\n",
    "# Строим дендрограмму, указав параметры удобные для отображения\n",
    "dendrogram(mergings,\n",
    "           leaf_rotation=90,\n",
    "           leaf_font_size=1,\n",
    "           )\n",
    "\n",
    "plt.show()"
   ]
  },
  {
   "cell_type": "code",
   "execution_count": 111,
   "metadata": {},
   "outputs": [
    {
     "data": {
      "image/png": "[encoded data removed]",
      "text/plain": [
       "<Figure size 432x288 with 1 Axes>"
      ]
     },
     "metadata": {
      "needs_background": "light"
     },
     "output_type": "display_data"
    }
   ],
   "source": [
    "plotlables = ['bo','go','ro','yo']\n",
    "\n",
    "# Извлекаем измерения как массив NumPy\n",
    "samples = clust_orders[['latitude to','longtitude to']].values\n",
    "\n",
    "# Описываем модель\n",
    "model = KMeans(n_clusters=3)\n",
    "\n",
    "# Проводим моделирование\n",
    "model.fit(samples)\n",
    "\n",
    "# Предсказание на всем наборе данных\n",
    "all_predictions = model.predict(samples)\n",
    "\n",
    "all_predictions = pd.DataFrame(all_predictions, columns=['clusters'])\n",
    "all_predictions['x'] = samples[:,0]\n",
    "all_predictions['y'] = samples[:,1]\n",
    "all_predictions['index'] = clust_orders['index']\n",
    "\n",
    "all_predictions[all_predictions['clusters'] == 1]\n",
    "\n",
    "for col in all_predictions.clusters.unique():\n",
    "    plt.plot(all_predictions[all_predictions['clusters'] == col]['x'].values,\\\n",
    "             all_predictions[all_predictions['clusters'] == col]['y'].values,\\\n",
    "             plotlables[int(col)])"
   ]
  },
  {
   "cell_type": "code",
   "execution_count": 113,
   "metadata": {},
   "outputs": [],
   "source": [
    "output = all_predictions.copy()\n",
    "output['x'] = output['x']/10+55\n",
    "output['y'] = output['y']/10+38\n",
    "output.to_excel('for_peresekator.xlsx',index=False)"
   ]
  },
  {
   "cell_type": "code",
   "execution_count": null,
   "metadata": {},
   "outputs": [],
   "source": []
  },
  {
   "cell_type": "code",
   "execution_count": null,
   "metadata": {},
   "outputs": [],
   "source": []
  },
  {
   "cell_type": "code",
   "execution_count": null,
   "metadata": {},
   "outputs": [],
   "source": []
  },
  {
   "cell_type": "code",
   "execution_count": null,
   "metadata": {},
   "outputs": [],
   "source": []
  },
  {
   "cell_type": "code",
   "execution_count": null,
   "metadata": {},
   "outputs": [],
   "source": []
  }
 ],
 "metadata": {
  "kernelspec": {
   "display_name": "Python 3",
   "language": "python",
   "name": "python3"
  },
  "language_info": {
   "codemirror_mode": {
    "name": "ipython",
    "version": 3
   },
   "file_extension": ".py",
   "mimetype": "text/x-python",
   "name": "python",
   "nbconvert_exporter": "python",
   "pygments_lexer": "ipython3",
   "version": "3.7.6"
  }
 },
 "nbformat": 4,
 "nbformat_minor": 2
}
