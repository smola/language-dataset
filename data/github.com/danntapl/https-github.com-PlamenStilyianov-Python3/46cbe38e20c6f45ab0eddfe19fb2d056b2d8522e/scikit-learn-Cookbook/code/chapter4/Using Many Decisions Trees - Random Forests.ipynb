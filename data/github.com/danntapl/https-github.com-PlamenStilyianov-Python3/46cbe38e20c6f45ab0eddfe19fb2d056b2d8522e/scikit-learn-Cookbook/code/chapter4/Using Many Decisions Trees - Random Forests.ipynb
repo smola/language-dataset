{
 "metadata": {
  "name": "",
  "signature": "sha256:820f3238fd8a5caedafe8b6fc73e7123b570364d01fd9bc04ee6d83ffcc7c10d"
 },
 "nbformat": 3,
 "nbformat_minor": 0,
 "worksheets": [
  {
   "cells": [
    {
     "cell_type": "markdown",
     "metadata": {},
     "source": [
      "Chapter Notes\n",
      "\n",
      "3 pages"
     ]
    },
    {
     "cell_type": "code",
     "collapsed": false,
     "input": [
      "%matplotlib inline"
     ],
     "language": "python",
     "metadata": {},
     "outputs": [],
     "prompt_number": 1
    },
    {
     "cell_type": "markdown",
     "metadata": {},
     "source": [
      "#Getting Ready\n",
      "\n",
      "In this chapter we'll use Random forests for classification tasks.  Random forests get heavy use because they're very robost to overfitting and perform well in a variety of situations.\n",
      "\n",
      "We'll explore this more in the How it works section, but Random forests work by constructing a lot of very shallow trees then taking a vote of the class that each tree \"voted\" for.  This idea is very powerful in Machine Learning.  If we recognize that a simple classifier trained may only be accurate 60% by itself, we can then train lots of classifiers that are generally right, we can then use the learners together."
     ]
    },
    {
     "cell_type": "markdown",
     "metadata": {},
     "source": [
      "#How to do it\n",
      "\n",
      "The mechanics of training a Random forest classifier is very easy with Scikit-Learn.  In this section we'll:\n",
      "\n",
      "1. Create a sample data set to practice with\n",
      "2. Train a basic Random forest object\n",
      "3. Take a look at some of the attributes of a trained object\n",
      "\n",
      "In the next section we'll look the how to tune the Random forest classifier."
     ]
    },
    {
     "cell_type": "code",
     "collapsed": false,
     "input": [
      "from sklearn import datasets"
     ],
     "language": "python",
     "metadata": {},
     "outputs": [],
     "prompt_number": 2
    },
    {
     "cell_type": "markdown",
     "metadata": {},
     "source": [
      "Create the dataset with 1,000 samples."
     ]
    },
    {
     "cell_type": "code",
     "collapsed": false,
     "input": [
      "X, y = datasets.make_classification(1000)"
     ],
     "language": "python",
     "metadata": {},
     "outputs": [],
     "prompt_number": 3
    },
    {
     "cell_type": "markdown",
     "metadata": {},
     "source": [
      "Now that we have the data we can create a classifier object and train it."
     ]
    },
    {
     "cell_type": "code",
     "collapsed": false,
     "input": [
      "from sklearn.ensemble import RandomForestClassifier\n",
      "\n",
      "rf = RandomForestClassifier()"
     ],
     "language": "python",
     "metadata": {},
     "outputs": [],
     "prompt_number": 4
    },
    {
     "cell_type": "code",
     "collapsed": false,
     "input": [
      "rf.fit(X, y)"
     ],
     "language": "python",
     "metadata": {},
     "outputs": [
      {
       "metadata": {},
       "output_type": "pyout",
       "prompt_number": 5,
       "text": [
        "RandomForestClassifier(bootstrap=True, compute_importances=None,\n",
        "            criterion='gini', max_depth=None, max_features='auto',\n",
        "            max_leaf_nodes=None, min_density=None, min_samples_leaf=1,\n",
        "            min_samples_split=2, n_estimators=10, n_jobs=1,\n",
        "            oob_score=False, random_state=None, verbose=0)"
       ]
      }
     ],
     "prompt_number": 5
    },
    {
     "cell_type": "markdown",
     "metadata": {},
     "source": [
      "The first thing we want to do, it to see how well we fit the training data.  We can look use the prediction method to those projections."
     ]
    },
    {
     "cell_type": "code",
     "collapsed": false,
     "input": [
      "print \"Accuracy:\\t\", (y == rf.predict(X)).mean()\n",
      "print \"Total Correct:\\t\", (y == rf.predict(X)).sum()"
     ],
     "language": "python",
     "metadata": {},
     "outputs": [
      {
       "output_type": "stream",
       "stream": "stdout",
       "text": [
        "Accuracy:\t0.988\n",
        "Total Correct:\t988\n"
       ]
      }
     ],
     "prompt_number": 6
    },
    {
     "cell_type": "markdown",
     "metadata": {},
     "source": [
      "Now let's look at some attributes and methods.\n",
      "\n",
      "First we'll look at the some of the useful attributes.  In this case, since we used defaults, they'll be the object defaults.\n",
      "\n",
      "* `rf.criterion` - the criterion for how the splits are determined.  The default is gini.\n",
      "* `rf.bootstrap` - a boolean that indicates if we used bootstrap samples when training the Random forest\n",
      "* `rf.n_jobs` - the number of jobs to train and predict with.  If you want to use all the processors, set this to -1.  Keep in mind that if you're dataset isn't very big, it's often more overhead to use multiple jobs due to the data having to be serialized and moved in between processes.\n",
      "* `rf.max_features` - how many features to consider when making the best split.  This will come in handy during the turning processing.\n",
      "* `rf.compute_importances` - whether to compute the importances of the features.  See the there's more section for how to use these.\n",
      "* `rf.max_depth` - how deep each tree can go\n",
      "\n",
      "There are more attributes of note, see the documentation for more detail.\n",
      "\n",
      "`predict` isn't the only useful method.  We can also get the probabilities of each class from inividual samples.  This can be a useful features for understanding the uncertainty in each prediction.  For instance, we can predict the probabilities of each sample for the various classes."
     ]
    },
    {
     "cell_type": "code",
     "collapsed": false,
     "input": [
      "probs = rf.predict_proba(X)\n",
      "\n",
      "import pandas as pd\n",
      "\n",
      "probs_df = pd.DataFrame(probs, columns=['0', '1'])\n",
      "probs_df['was_correct'] = rf.predict(X) == y"
     ],
     "language": "python",
     "metadata": {},
     "outputs": [],
     "prompt_number": 7
    },
    {
     "cell_type": "code",
     "collapsed": false,
     "input": [
      "import matplotlib.pyplot as plt\n",
      "\n",
      "f, ax = plt.subplots(figsize=(7, 5))\n",
      "\n",
      "probs_df.groupby('0').was_correct.mean().plot(kind='bar', ax=ax)\n",
      "ax.set_title(\"Accuracy at 0 class probability\")\n",
      "ax.set_ylabel(\"% Correct\")\n",
      "ax.set_xlabel(\"% trees for 0\")\n",
      "\n",
      "f.savefig(\"978-1-78398-948-5_05_07.png\")"
     ],
     "language": "python",
     "metadata": {},
     "outputs": [
      {
       "metadata": {},
       "output_type": "display_data",
       "png": "[encoded data removed]",
       "text": [
        "<matplotlib.figure.Figure at 0x1080700d0>"
       ]
      }
     ],
     "prompt_number": 8
    },
    {
     "cell_type": "markdown",
     "metadata": {},
     "source": [
      "#How it works"
     ]
    },
    {
     "cell_type": "markdown",
     "metadata": {},
     "source": [
      "Random forest works by using a predetermined number of weak decision trees and only training each one of those trees on a subset of the data.  This is critical to avoiding over fitting.  This is also the reason for the `bootstrap` parameter.  Once we have each tree trained with either:\n",
      "\n",
      "* Use the class with the most votes\n",
      "* Or, after the output if we're using regression trees.\n",
      "\n",
      "There are of course performance considerations, which we'll cover next recipe, but for the purposes of understanding how Random forests work, understanding that we train a bunch of average trees and get the a fairly good classifer as a result."
     ]
    },
    {
     "cell_type": "markdown",
     "metadata": {},
     "source": [
      "#There's More"
     ]
    },
    {
     "cell_type": "markdown",
     "metadata": {},
     "source": [
      "Feature importances are a nice by product of the Random forests.  This often helps to answer the question: if we have 10 features, which features are most important in us determining the true class of the data point.  The real world applications are hopefully easy to see.  For example, if a transaction is fraudulent, we probably want to know if there are certain signals that can be used to more quickly figure out of a transaction's class.\n",
      "\n",
      "If we want to calculate the feature importances, we need to set the that when we creat the object.  iF you are using scikit-learn 0.15 you may get a warning that is is not required and in version 0.16 this will be removed."
     ]
    },
    {
     "cell_type": "code",
     "collapsed": false,
     "input": [
      "rf = RandomForestClassifier(compute_importances=True)\n",
      "rf.fit(X, y)"
     ],
     "language": "python",
     "metadata": {},
     "outputs": [
      {
       "output_type": "stream",
       "stream": "stderr",
       "text": [
        "/Users/thauck/miniconda/envs/sklearn-book/lib/python2.7/site-packages/sklearn/ensemble/forest.py:776: DeprecationWarning: Setting compute_importances is no longer required as version 0.14. Variable importances are now computed on the fly when accessing the feature_importances_ attribute. This parameter will be removed in 0.16.\n",
        "  DeprecationWarning)\n"
       ]
      },
      {
       "metadata": {},
       "output_type": "pyout",
       "prompt_number": 9,
       "text": [
        "RandomForestClassifier(bootstrap=True, compute_importances=None,\n",
        "            criterion='gini', max_depth=None, max_features='auto',\n",
        "            max_leaf_nodes=None, min_density=None, min_samples_leaf=1,\n",
        "            min_samples_split=2, n_estimators=10, n_jobs=1,\n",
        "            oob_score=False, random_state=None, verbose=0)"
       ]
      }
     ],
     "prompt_number": 9
    },
    {
     "cell_type": "code",
     "collapsed": false,
     "input": [
      "f, ax = plt.subplots(figsize=(7, 5))\n",
      "\n",
      "ax.bar(range(len(rf.feature_importances_)), rf.feature_importances_)\n",
      "\n",
      "ax.set_title(\"Feature Importances\")\n",
      "f.savefig(\"978-1-78398-948-5_05_08.png\")"
     ],
     "language": "python",
     "metadata": {},
     "outputs": [
      {
       "metadata": {},
       "output_type": "display_data",
       "png": "[encoded data removed]",
       "text": [
        "<matplotlib.figure.Figure at 0x1083790d0>"
       ]
      }
     ],
     "prompt_number": 10
    },
    {
     "cell_type": "markdown",
     "metadata": {},
     "source": [
      "As we can see, certain features are much more important than others when determining if the outcome was of class 0 or class 1."
     ]
    }
   ],
   "metadata": {}
  }
 ]
}