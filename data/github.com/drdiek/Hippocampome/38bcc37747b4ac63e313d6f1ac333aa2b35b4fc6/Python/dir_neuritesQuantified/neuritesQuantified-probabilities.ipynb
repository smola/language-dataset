{
 "cells": [
  {
   "cell_type": "markdown",
   "metadata": {},
   "source": [
    "#neuritesQuantified\n",
    "\n",
    "##probabilities"
   ]
  },
  {
   "cell_type": "code",
   "execution_count": 1,
   "metadata": {},
   "outputs": [],
   "source": [
    "import math\n",
    "import numpy as np\n",
    "import pandas as pd"
   ]
  },
  {
   "cell_type": "code",
   "execution_count": 2,
   "metadata": {},
   "outputs": [],
   "source": [
    "import sys\n",
    "sys.path.append('Users/drdiek/Dropbox/Python/dir_neuritesQuantified/lib')"
   ]
  },
  {
   "cell_type": "code",
   "execution_count": 3,
   "metadata": {},
   "outputs": [
    {
     "name": "stdout",
     "output_type": "stream",
     "text": [
      "Initializing variables ...\n"
     ]
    }
   ],
   "source": [
    "print \"Initializing variables ...\"\n",
    "\n",
    "nCells = [0, 0, 0, 0, 0, 0]\n",
    "nLayers = [4, 5, 4, 4, 3, 6]\n",
    "\n",
    "try:\n",
    "    overlapBinaryDF = pd.read_csv('data/overlap_matrix.csv')\n",
    "except IOError:\n",
    "    print \"The file {} does not exist.\".format('data/overlap_matrix.csv')\n",
    "try:\n",
    "    neuritesQuantifiedDF = pd.read_excel('data/neurites_quantified_v1.0.xlsx')\n",
    "except IOError:\n",
    "    print \"The file {} does not exist.\".format('neurites_quantified_v1.0.xlsx')\n",
    "\n",
    "nCells[0] = len(overlapBinaryDF.loc[overlapBinaryDF['UniqueIDs'] < 2000])\n",
    "nCells[1] = len(overlapBinaryDF.loc[overlapBinaryDF['UniqueIDs'] < 3000]) - sum(nCells[0:1])\n",
    "nCells[2] = len(overlapBinaryDF.loc[overlapBinaryDF['UniqueIDs'] < 4000]) - sum(nCells[0:2])\n",
    "nCells[3] = len(overlapBinaryDF.loc[overlapBinaryDF['UniqueIDs'] < 5000]) - sum(nCells[0:3])\n",
    "nCells[4] = len(overlapBinaryDF.loc[overlapBinaryDF['UniqueIDs'] < 6000]) - sum(nCells[0:4])\n",
    "nCells[5] = len(overlapBinaryDF.loc[overlapBinaryDF['UniqueIDs'] > 5999])"
   ]
  },
  {
   "cell_type": "code",
   "execution_count": 4,
   "metadata": {},
   "outputs": [],
   "source": [
    "quantityDF = neuritesQuantifiedDF['Density']\n",
    "selections = [{'string'     : 'Probabilities', \\\n",
    "               'plotString' : 'Probabilities', \\\n",
    "               'selection'  : 6}]            \n",
    "quantitySelectionsDF = pd.DataFrame(selections)"
   ]
  },
  {
   "cell_type": "code",
   "execution_count": 5,
   "metadata": {},
   "outputs": [],
   "source": [
    "subregionDF = pd.DataFrame([{'selection' : 0}])"
   ]
  },
  {
   "cell_type": "code",
   "execution_count": 6,
   "metadata": {},
   "outputs": [
    {
     "name": "stdout",
     "output_type": "stream",
     "text": [
      "Averaging quantity values ...\n"
     ]
    }
   ],
   "source": [
    "print \"Averaging quantity values ...\"\n",
    "\n",
    "neuritesDF = neuritesQuantifiedDF['Unique_ID'].apply(str) + ':' + neuritesQuantifiedDF['Neurite']\n",
    "\n",
    "uniqueNeurites = neuritesDF.unique()\n",
    "meansDF = pd.DataFrame([{'Factors'   : 0, \\\n",
    "                         'Means'     : 0, \\\n",
    "                         'Neurites'  : 0, \\\n",
    "                         'UniqueIDs' : 0}])\n",
    "\n",
    "for i in range(len(uniqueNeurites)):\n",
    "    idx = neuritesDF.index[neuritesDF == uniqueNeurites[i]]\n",
    "    meansDF.loc[i, 'Factors'] = len(idx)\n",
    "    meansDF.loc[i, 'UniqueIDs'] = neuritesQuantifiedDF['Unique_ID'].iloc[idx[0]]\n",
    "    meansDF.loc[i, 'Neurites'] = neuritesQuantifiedDF['Neurite'].iloc[idx[0]]\n",
    "    lst = list(quantityDF.iloc[idx])\n",
    "    meansDF.loc[i, 'Means'] = sum(lst)/float(len(lst))"
   ]
  },
  {
   "cell_type": "code",
   "execution_count": 8,
   "metadata": {},
   "outputs": [],
   "source": [
    "def parcel_lookup(parcel):\n",
    "    parcels = ('DG:SMo', \\\n",
    "               'DG:SMi', \\\n",
    "               'DG:SG', \\\n",
    "               'DG:H', \\\n",
    "               'CA3:SLM', \\\n",
    "               'CA3:SR', \\\n",
    "               'CA3:SL', \\\n",
    "               'CA3:SP', \\\n",
    "               'CA3:SO', \\\n",
    "               'CA2:SLM', \\\n",
    "               'CA2:SR', \\\n",
    "               'CA2:SP', \\\n",
    "               'CA2:SO', \\\n",
    "               'CA1:SLM', \\\n",
    "               'CA1:SR', \\\n",
    "               'CA1:SP', \\\n",
    "               'CA1:SO', \\\n",
    "               'Sub:SM', \\\n",
    "               'Sub:SP', \\\n",
    "               'Sub:PL', \\\n",
    "               'EC:I', \\\n",
    "               'EC:II', \\\n",
    "               'EC:III', \\\n",
    "               'EC:IV', \\\n",
    "               'EC:V', \\\n",
    "               'EC:VI')\n",
    "    for i in range(len(parcels)):\n",
    "        if parcels[i] == parcel:\n",
    "            parcelNo = i\n",
    "    return(parcelNo)"
   ]
  },
  {
   "cell_type": "code",
   "execution_count": 9,
   "metadata": {},
   "outputs": [
    {
     "name": "stdout",
     "output_type": "stream",
     "text": [
      "Calculating overlapBinary probabilities ...\n",
      "Calculating graded probabilities ...\n"
     ]
    }
   ],
   "source": [
    "overlapBinaryDataDF = overlapBinaryDF.iloc[:,4:]\n",
    "\n",
    "axonsDF = (overlapBinaryDataDF == 1) | (overlapBinaryDataDF == 3).astype(int)\n",
    "dendritesDF = (overlapBinaryDataDF == 2) | (overlapBinaryDataDF == 3).astype(int)\n",
    "\n",
    "nNeurons = len(overlapBinaryDF)\n",
    "nRows, nColumns = overlapBinaryDF.shape\n",
    "nParcels = nColumns - 4 # account for header columns (UniqueIDs, NAmes, Abbreviations, EorI)\n",
    "\n",
    "overlapBinaryProbabilityDF = pd.DataFrame(np.zeros(shape=(nNeurons, nNeurons)))\n",
    "\n",
    "print \"Calculating overlapBinary probabilities ...\"\n",
    "for i in range(nNeurons):\n",
    "    for j in range(nNeurons):\n",
    "        overlapBinaryProbabilityDF.iloc[i, j] = (2*(overlapBinaryDF.loc[i, 'EorI'] == 'E')-1) * \\\n",
    "                                                 np.sign(sum(axonsDF.iloc[i, :] & dendritesDF.iloc[j, :]))\n",
    "overlapBinaryProbabilityDF = overlapBinaryProbabilityDF.astype(int)\n",
    "\n",
    "axonsDF = dendritesDF = pd.DataFrame(np.zeros(shape=(nNeurons, nParcels)))\n",
    "\n",
    "for k in range(len(meansDF)):\n",
    "    i = overlapBinaryDF['UniqueIDs'].index[overlapBinaryDF['UniqueIDs'] == meansDF.loc[k, 'UniqueIDs']]\n",
    "    neuriteStr = meansDF.loc[k, 'Neurites']\n",
    "    idx = [pos for pos, char in enumerate(neuriteStr) if char == ':']\n",
    "    parcel = neuriteStr[:idx[1]]\n",
    "    j = parcel_lookup(parcel)\n",
    "    neurite = neuriteStr[idx[1]+1:]\n",
    "    if neurite == 'A':\n",
    "        if math.isnan(meansDF.loc[k, 'Means']):\n",
    "            axonsDF.iloc[i, j] = 0\n",
    "        else:\n",
    "            axonsDF.iloc[i, j] = meansDF.loc[k, 'Means']\n",
    "    else:\n",
    "        if math.isnan(meansDF.loc[k, 'Means']):\n",
    "            dendritesDF.iloc[i, j] = 0\n",
    "        else:\n",
    "            dendritesDF.iloc[i, j] = meansDF.loc[k, 'Means']\n",
    "\n",
    "gradedProbabilityDF = pd.DataFrame(np.zeros(shape=(nNeurons, nNeurons)))\n",
    "\n",
    "print \"Calculating graded probabilities ...\"\n",
    "for i in range(nNeurons):\n",
    "    for j in range(nNeurons):\n",
    "        axonsLST = list(axonsDF.iloc[i, :])\n",
    "        dendritesLST = list(dendritesDF.iloc[j, :])\n",
    "        gradedProbabilityDF.iloc[i, j] = sum([a*b for a,b in zip(axonsLST, dendritesLST)])"
   ]
  },
  {
   "cell_type": "code",
   "execution_count": 10,
   "metadata": {},
   "outputs": [],
   "source": [
    "%matplotlib inline\n",
    "\n",
    "import matplotlib.pyplot as plt\n",
    "import matplotlib.patches as patches\n",
    "\n",
    "from lib.diek_functions import time_stamp\n",
    "\n",
    "from lib.plot_functions import HCcolors as c\n",
    "from lib.plot_functions import make_color_map"
   ]
  },
  {
   "cell_type": "code",
   "execution_count": 11,
   "metadata": {},
   "outputs": [
    {
     "name": "stdout",
     "output_type": "stream",
     "text": [
      "Making probability color map ...\n",
      "Plotting probability background data ...\n"
     ]
    },
    {
     "data": {
      "image/png": "[encoded data removed]",
      "text/plain": [
       "<Figure size 432x288 with 1 Axes>"
      ]
     },
     "metadata": {},
     "output_type": "display_data"
    },
    {
     "name": "stdout",
     "output_type": "stream",
     "text": [
      "Saving data to pdf file output/probability_matrix_201811271626.pdf ...\n",
      "\n"
     ]
    }
   ],
   "source": [
    "nNeurons = len(overlapBinaryDF)\n",
    "\n",
    "regionColors = [c.BROWN_DG,\n",
    "                c.BROWN_CA3,\n",
    "                c.YELLOW_CA2,\n",
    "                c.ORANGE_CA1,\n",
    "                c.YELLOW_Sub,\n",
    "                c.GREEN_EC]\n",
    "DG = 0\n",
    "CA3 = 1\n",
    "CA2 = 2\n",
    "CA1 = 3\n",
    "Sub = 4\n",
    "EC = 5\n",
    "\n",
    "probabilityColors = [c.GRAY_LIGHT,\n",
    "                     c.WHITE,\n",
    "                     c.GRAY_DARK]\n",
    "\n",
    "nProbabilityColors = len(probabilityColors)\n",
    "\n",
    "print \"Making probability color map ...\"\n",
    "probabilityColorMap = make_color_map(probabilityColors)\n",
    "\n",
    "print \"Plotting probability background data ...\"\n",
    "fig = plt.figure()\n",
    "ax = fig.add_subplot(111)\n",
    "\n",
    "ax.set_aspect(\"equal\")\n",
    "\n",
    "ax.axis('off')\n",
    "\n",
    "plt.pcolormesh(overlapBinaryProbabilityDF.iloc[:,:], cmap=probabilityColorMap)\n",
    "\n",
    "plt.xlim(-10, nNeurons)\n",
    "plt.ylim(-10, nNeurons)\n",
    "\n",
    "plt.gca().invert_yaxis()\n",
    "\n",
    "displayFontSize = 0.5\n",
    "\n",
    "# color-coded tags for the subregions\n",
    "ax.add_patch(patches.Rectangle((sum(nCells[:DG]), -1), nCells[DG], 1, edgecolor=\"none\", facecolor=c.BROWN_DG))\n",
    "ax.add_patch(patches.Rectangle((sum(nCells[:CA3]), -1), nCells[CA3], 1, edgecolor=\"none\", facecolor=c.BROWN_CA3))\n",
    "ax.add_patch(patches.Rectangle((sum(nCells[:CA2]), -1), nCells[CA2], 1, edgecolor=\"none\", facecolor=c.YELLOW_CA2))\n",
    "ax.add_patch(patches.Rectangle((sum(nCells[:CA1]), -1), nCells[CA1], 1, edgecolor=\"none\", facecolor=c.ORANGE_CA1))\n",
    "ax.add_patch(patches.Rectangle((sum(nCells[:Sub]), -1), nCells[Sub], 1, edgecolor=\"none\", facecolor=c.YELLOW_Sub))\n",
    "ax.add_patch(patches.Rectangle((sum(nCells[:EC]), -1), nCells[EC], 1, edgecolor=\"none\", facecolor=c.GREEN_EC))\n",
    "\n",
    "ax.add_patch(patches.Rectangle((-1, sum(nCells[:DG])), 1, nCells[DG], edgecolor=\"none\", facecolor=c.BROWN_DG))\n",
    "ax.add_patch(patches.Rectangle((-1, sum(nCells[:CA3])), 1, nCells[CA3], edgecolor=\"none\", facecolor=c.BROWN_CA3))\n",
    "ax.add_patch(patches.Rectangle((-1, sum(nCells[:CA2])), 1, nCells[CA2], edgecolor=\"none\", facecolor=c.YELLOW_CA2))\n",
    "ax.add_patch(patches.Rectangle((-1, sum(nCells[:CA1])), 1, nCells[CA1], edgecolor=\"none\", facecolor=c.ORANGE_CA1))\n",
    "ax.add_patch(patches.Rectangle((-1, sum(nCells[:Sub])), 1, nCells[Sub], edgecolor=\"none\", facecolor=c.YELLOW_Sub))\n",
    "ax.add_patch(patches.Rectangle((-1, sum(nCells[:EC])), 1, nCells[EC], edgecolor=\"none\", facecolor=c.GREEN_EC))\n",
    "\n",
    "# parcellation subregion headers\n",
    "tab = [sum(nCells[:DG]) + (nCells[DG]+1)/2,\n",
    "       sum(nCells[:CA3]) + (nCells[CA3]+1)/2,\n",
    "       sum(nCells[:CA2]) + (nCells[CA2]+1)/2,\n",
    "       sum(nCells[:CA1]) + (nCells[CA1]+1)/2,\n",
    "       sum(nCells[:Sub]) + (nCells[Sub]+1)/2,\n",
    "       sum(nCells[:EC]) + (nCells[EC]+1)/2\n",
    "      ]\n",
    "ax.text(tab[DG], -0.25, \"DG\", rotation=0, horizontalalignment=\"center\", fontsize=displayFontSize, color=c.WHITE)\n",
    "ax.text(tab[CA3], -0.25, \"CA3\", rotation=0, horizontalalignment=\"center\", fontsize=displayFontSize, color=c.WHITE)\n",
    "ax.text(tab[CA2], -0.25, \"CA2\", rotation=0, horizontalalignment=\"center\", fontsize=displayFontSize, color=c.BLACK)\n",
    "ax.text(tab[CA1], -0.25, \"CA1\", rotation=0, horizontalalignment=\"center\", fontsize=displayFontSize, color=c.WHITE)\n",
    "ax.text(tab[Sub], -0.25, \"Sub\", rotation=0, horizontalalignment=\"center\", fontsize=displayFontSize, color=c.BLACK)\n",
    "ax.text(tab[EC], -0.25, \"EC\", rotation=0, horizontalalignment=\"center\", fontsize=displayFontSize, color=c.WHITE)\n",
    "\n",
    "ax.text(-0.5, tab[DG], \"DG\", rotation=90, verticalalignment=\"bottom\", horizontalalignment=\"center\",\n",
    "        fontsize=displayFontSize, color=c.WHITE)\n",
    "ax.text(-0.5, tab[CA3], \"CA3\", rotation=90, verticalalignment=\"bottom\", horizontalalignment=\"center\",\n",
    "        fontsize=displayFontSize, color=c.WHITE)\n",
    "ax.text(-0.5, tab[CA2], \"CA2\", rotation=90, verticalalignment=\"bottom\", horizontalalignment=\"center\",\n",
    "        fontsize=displayFontSize, color=c.BLACK)\n",
    "ax.text(-0.5, tab[CA1], \"CA1\", rotation=90, verticalalignment=\"bottom\", horizontalalignment=\"center\",\n",
    "        fontsize=displayFontSize, color=c.WHITE)\n",
    "ax.text(-0.5, tab[Sub], \"Sub\", rotation=90, verticalalignment=\"bottom\", horizontalalignment=\"center\",\n",
    "        fontsize=displayFontSize, color=c.BLACK)\n",
    "ax.text(-0.5, tab[EC], \"EC\", rotation=90, verticalalignment=\"bottom\", horizontalalignment=\"center\",\n",
    "        fontsize=displayFontSize, color=c.WHITE)\n",
    "\n",
    "for i in range(nNeurons):\n",
    "    textColor = c.BLACK\n",
    "    if overlapBinaryDF.loc[i, 'EorI'] == 'I':\n",
    "        textColor = c.GRAY\n",
    "    ax.text(i+0.5, -1.25, overlapBinaryDF.loc[i, 'Abbreviations'], rotation=90, horizontalalignment=\"center\",\n",
    "            verticalalignment=\"bottom\", fontsize=displayFontSize, color=textColor)\n",
    "    ax.text(-1.25, i+0.5, overlapBinaryDF.loc[i, 'Abbreviations'], rotation=0, horizontalalignment=\"right\",\n",
    "            verticalalignment=\"center\", fontsize=displayFontSize, color=textColor)\n",
    "\n",
    "for i in range(nNeurons):\n",
    "    for j in range(nNeurons):\n",
    "        if gradedProbabilityDF.iloc[i, j] > 0:\n",
    "            strng = '{:.2e}'.format(gradedProbabilityDF.iloc[i, j])\n",
    "            if overlapBinaryProbabilityDF.iloc[i, j] == 0:\n",
    "                textColor = c.BLACK\n",
    "                if overlapBinaryDF.loc[i, 'EorI'] == 'I':\n",
    "                    textColor = c.GRAY\n",
    "                ax.text(j+1.5, i+0.5, strng, rotation=0, horizontalalignment=\"center\", fontsize=displayFontSize/2,\n",
    "                        color=textColor)\n",
    "            else:\n",
    "                faceColor = c.BLACK\n",
    "                if overlapBinaryDF.loc[i, 'EorI'] == 'I':\n",
    "                    faceColor = c.GRAY\n",
    "                ax.add_patch(patches.Rectangle((j, i), # (x,y)\n",
    "                                               1,             # width\n",
    "                                               1,             # height\n",
    "                                               edgecolor=\"none\",\n",
    "                                               facecolor=faceColor\n",
    "                                              )\n",
    "                            )\n",
    "                ax.text(j+1.5, i+0.5, strng, rotation=0, horizontalalignment=\"center\", fontsize=displayFontSize/2,\n",
    "                        color=c.WHITE)\n",
    "\n",
    "plt.show()\n",
    "\n",
    "# save plot\n",
    "outputFileName = \"output/probability_matrix_%s.pdf\" % time_stamp()\n",
    "print \"Saving data to pdf file %s ...\\n\" % outputFileName    \n",
    "fig.savefig(outputFileName, dpi=600)"
   ]
  },
  {
   "cell_type": "code",
   "execution_count": null,
   "metadata": {},
   "outputs": [],
   "source": []
  }
 ],
 "metadata": {
  "kernelspec": {
   "display_name": "Python 2",
   "language": "python",
   "name": "python2"
  },
  "language_info": {
   "codemirror_mode": {
    "name": "ipython",
    "version": 2
   },
   "file_extension": ".py",
   "mimetype": "text/x-python",
   "name": "python",
   "nbconvert_exporter": "python",
   "pygments_lexer": "ipython2",
   "version": "2.7.6"
  }
 },
 "nbformat": 4,
 "nbformat_minor": 2
}
