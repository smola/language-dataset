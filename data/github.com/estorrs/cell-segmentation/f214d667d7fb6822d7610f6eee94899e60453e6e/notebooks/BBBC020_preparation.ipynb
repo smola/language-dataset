{
 "cells": [
  {
   "cell_type": "code",
   "execution_count": 42,
   "metadata": {},
   "outputs": [],
   "source": [
    "import os\n",
    "import re\n",
    "\n",
    "import cv2\n",
    "import matplotlib.pyplot as plt\n",
    "\n",
    "import mgitools.os_helpers as os_helpers"
   ]
  },
  {
   "cell_type": "code",
   "execution_count": 43,
   "metadata": {},
   "outputs": [],
   "source": [
    "images_folder = '/Users/erikstorrs/Downloads/BBBC020_v1_images/'\n",
    "masks_folder = '/Users/erikstorrs/Downloads/BBC020_v1_outlines_cells/'"
   ]
  },
  {
   "cell_type": "markdown",
   "metadata": {},
   "source": [
    "##### grab combined images"
   ]
  },
  {
   "cell_type": "code",
   "execution_count": 44,
   "metadata": {},
   "outputs": [],
   "source": [
    "images_fps = list(os_helpers.listfiles(images_folder, regex=r'c1.*c5'))\n",
    "\n",
    "sample_id_to_images_fp = {}\n",
    "for fp in images_fps:\n",
    "    pieces = fp.split('/')\n",
    "    \n",
    "    sample_id = pieces[-2].replace(' ', '-')\n",
    "    \n",
    "    sample_id_to_images_fp[sample_id] = fp"
   ]
  },
  {
   "cell_type": "code",
   "execution_count": 45,
   "metadata": {},
   "outputs": [
    {
     "data": {
      "text/plain": [
       "(25,\n",
       " [('jw-1h-2',\n",
       "   '/Users/erikstorrs/Downloads/BBBC020_v1_images/jw-1h 2/jw-1h 2_(c1+c5).TIF'),\n",
       "  ('jw-1h-5',\n",
       "   '/Users/erikstorrs/Downloads/BBBC020_v1_images/jw-1h 5/jw-1h 5_(c1+c5).TIF'),\n",
       "  ('jw-1h-4',\n",
       "   '/Users/erikstorrs/Downloads/BBBC020_v1_images/jw-1h 4/jw-1h 4_(c1+c5).TIF'),\n",
       "  ('jw-1h-3',\n",
       "   '/Users/erikstorrs/Downloads/BBBC020_v1_images/jw-1h 3/jw-1h 3_(c1+c5).TIF'),\n",
       "  ('jw-2h-1',\n",
       "   '/Users/erikstorrs/Downloads/BBBC020_v1_images/jw-2h 1/jw-2h 1_(c1+c5).TIF')])"
      ]
     },
     "execution_count": 45,
     "metadata": {},
     "output_type": "execute_result"
    }
   ],
   "source": [
    "len(sample_id_to_images_fp), list(sample_id_to_images_fp.items())[:5]"
   ]
  },
  {
   "cell_type": "markdown",
   "metadata": {},
   "source": [
    "##### grab masks"
   ]
  },
  {
   "cell_type": "code",
   "execution_count": 46,
   "metadata": {},
   "outputs": [],
   "source": [
    "masks_fps = list(os_helpers.listfiles(masks_folder, regex=r'TIF'))\n",
    "\n",
    "sample_id_to_mask_fps = {}\n",
    "for fp in masks_fps:\n",
    "    sample_id = re.sub(r'^.*outlines_cells/(.*)_c1.*TIF$', r'\\1', fp).replace(' ', '-')\n",
    "    \n",
    "    if sample_id in sample_id_to_mask_fps:\n",
    "        sample_id_to_mask_fps[sample_id].append(fp)\n",
    "    else:\n",
    "        sample_id_to_mask_fps[sample_id] = [fp]"
   ]
  },
  {
   "cell_type": "code",
   "execution_count": 47,
   "metadata": {},
   "outputs": [
    {
     "data": {
      "text/plain": [
       "(20,\n",
       " [('jw-24h-2',\n",
       "   ['/Users/erikstorrs/Downloads/BBC020_v1_outlines_cells/jw-24h 2_c1_3.TIF',\n",
       "    '/Users/erikstorrs/Downloads/BBC020_v1_outlines_cells/jw-24h 2_c1_12.TIF',\n",
       "    '/Users/erikstorrs/Downloads/BBC020_v1_outlines_cells/jw-24h 2_c1_13.TIF',\n",
       "    '/Users/erikstorrs/Downloads/BBC020_v1_outlines_cells/jw-24h 2_c1_2.TIF',\n",
       "    '/Users/erikstorrs/Downloads/BBC020_v1_outlines_cells/jw-24h 2_c1_0.TIF',\n",
       "    '/Users/erikstorrs/Downloads/BBC020_v1_outlines_cells/jw-24h 2_c1_11.TIF',\n",
       "    '/Users/erikstorrs/Downloads/BBC020_v1_outlines_cells/jw-24h 2_c1_10.TIF',\n",
       "    '/Users/erikstorrs/Downloads/BBC020_v1_outlines_cells/jw-24h 2_c1_1.TIF',\n",
       "    '/Users/erikstorrs/Downloads/BBC020_v1_outlines_cells/jw-24h 2_c1_5.TIF',\n",
       "    '/Users/erikstorrs/Downloads/BBC020_v1_outlines_cells/jw-24h 2_c1_14.TIF',\n",
       "    '/Users/erikstorrs/Downloads/BBC020_v1_outlines_cells/jw-24h 2_c1_15.TIF',\n",
       "    '/Users/erikstorrs/Downloads/BBC020_v1_outlines_cells/jw-24h 2_c1_4.TIF',\n",
       "    '/Users/erikstorrs/Downloads/BBC020_v1_outlines_cells/jw-24h 2_c1_6.TIF',\n",
       "    '/Users/erikstorrs/Downloads/BBC020_v1_outlines_cells/jw-24h 2_c1_17.TIF',\n",
       "    '/Users/erikstorrs/Downloads/BBC020_v1_outlines_cells/jw-24h 2_c1_16.TIF',\n",
       "    '/Users/erikstorrs/Downloads/BBC020_v1_outlines_cells/jw-24h 2_c1_7.TIF',\n",
       "    '/Users/erikstorrs/Downloads/BBC020_v1_outlines_cells/jw-24h 2_c1_9.TIF',\n",
       "    '/Users/erikstorrs/Downloads/BBC020_v1_outlines_cells/jw-24h 2_c1_18.TIF',\n",
       "    '/Users/erikstorrs/Downloads/BBC020_v1_outlines_cells/jw-24h 2_c1_19.TIF',\n",
       "    '/Users/erikstorrs/Downloads/BBC020_v1_outlines_cells/jw-24h 2_c1_8.TIF',\n",
       "    '/Users/erikstorrs/Downloads/BBC020_v1_outlines_cells/jw-24h 2_c1_21.TIF',\n",
       "    '/Users/erikstorrs/Downloads/BBC020_v1_outlines_cells/jw-24h 2_c1_20.TIF',\n",
       "    '/Users/erikstorrs/Downloads/BBC020_v1_outlines_cells/jw-24h 2_c1_22.TIF'])])"
      ]
     },
     "execution_count": 47,
     "metadata": {},
     "output_type": "execute_result"
    }
   ],
   "source": [
    "len(sample_id_to_mask_fps), list(sample_id_to_mask_fps.items())[:1]"
   ]
  },
  {
   "cell_type": "markdown",
   "metadata": {},
   "source": [
    "##### convert to png and save in correct order"
   ]
  },
  {
   "cell_type": "code",
   "execution_count": 48,
   "metadata": {},
   "outputs": [],
   "source": [
    "output_dir = '/Users/erikstorrs/Documents/ding/cell_segmentation/data/BBC020'"
   ]
  },
  {
   "cell_type": "code",
   "execution_count": 49,
   "metadata": {},
   "outputs": [
    {
     "ename": "FileExistsError",
     "evalue": "[Errno 17] File exists: '/Users/erikstorrs/Documents/ding/cell_segmentation/data/BBC020'",
     "output_type": "error",
     "traceback": [
      "\u001b[0;31m---------------------------------------------------------------------------\u001b[0m",
      "\u001b[0;31mFileExistsError\u001b[0m                           Traceback (most recent call last)",
      "\u001b[0;32m<ipython-input-49-e6d6a696b429>\u001b[0m in \u001b[0;36m<module>\u001b[0;34m\u001b[0m\n\u001b[0;32m----> 1\u001b[0;31m \u001b[0mos\u001b[0m\u001b[0;34m.\u001b[0m\u001b[0mmkdir\u001b[0m\u001b[0;34m(\u001b[0m\u001b[0moutput_dir\u001b[0m\u001b[0;34m)\u001b[0m\u001b[0;34m\u001b[0m\u001b[0;34m\u001b[0m\u001b[0m\n\u001b[0m",
      "\u001b[0;31mFileExistsError\u001b[0m: [Errno 17] File exists: '/Users/erikstorrs/Documents/ding/cell_segmentation/data/BBC020'"
     ]
    }
   ],
   "source": [
    "os.mkdir(output_dir)"
   ]
  },
  {
   "cell_type": "code",
   "execution_count": 60,
   "metadata": {},
   "outputs": [],
   "source": [
    "for sample_id, image_fp in sample_id_to_images_fp.items():\n",
    "    if sample_id in sample_id_to_mask_fps:\n",
    "        os.mkdir(os.path.join(output_dir, sample_id))\n",
    "        os.mkdir(os.path.join(output_dir, sample_id, 'images'))\n",
    "\n",
    "        image = cv2.imread(image_fp, flags=cv2.IMREAD_COLOR)\n",
    "        image = cv2.resize(image, (0,0), fx=0.25, fy=0.25) \n",
    "        \n",
    "        cv2.imwrite(os.path.join(output_dir, sample_id, 'images', f'{sample_id}.png'), image)"
   ]
  },
  {
   "cell_type": "code",
   "execution_count": 61,
   "metadata": {},
   "outputs": [],
   "source": [
    "for sample_id, mask_fps in sample_id_to_mask_fps.items():\n",
    "    os.mkdir(os.path.join(output_dir, sample_id, 'masks'))\n",
    "    \n",
    "    for i, image_fp in enumerate(mask_fps):\n",
    "        image = cv2.imread(image_fp, flags=cv2.IMREAD_COLOR)\n",
    "        image = cv2.cvtColor(image, cv2.COLOR_BGR2GRAY)\n",
    "        image = cv2.resize(image, (0,0), fx=0.25, fy=0.25)\n",
    "        \n",
    "        cv2.imwrite(os.path.join(output_dir, sample_id, 'masks', f'{sample_id}_{i}.png'), image)"
   ]
  },
  {
   "cell_type": "code",
   "execution_count": null,
   "metadata": {},
   "outputs": [],
   "source": []
  }
 ],
 "metadata": {
  "kernelspec": {
   "display_name": "Python 3",
   "language": "python",
   "name": "python3"
  },
  "language_info": {
   "codemirror_mode": {
    "name": "ipython",
    "version": 3
   },
   "file_extension": ".py",
   "mimetype": "text/x-python",
   "name": "python",
   "nbconvert_exporter": "python",
   "pygments_lexer": "ipython3",
   "version": "3.7.1"
  }
 },
 "nbformat": 4,
 "nbformat_minor": 2
}
