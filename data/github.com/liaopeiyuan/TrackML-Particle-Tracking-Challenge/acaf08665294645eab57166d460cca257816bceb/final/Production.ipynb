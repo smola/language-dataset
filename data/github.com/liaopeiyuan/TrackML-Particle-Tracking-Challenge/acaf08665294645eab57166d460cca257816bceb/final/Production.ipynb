{
 "cells": [
  {
   "cell_type": "markdown",
   "metadata": {
    "_uuid": "d99098fcbfa6a9ec3ca72e4f681233c323c255c0"
   },
   "source": [
    "In this notebook, I would like to use the Hough transform to cluster hits. This notebook is therefore, get some materials from the past published kernels,\n",
    "\n",
    "In the previous notebook, we see a function relating phi and r like (where $r = \\sqrt{x^2 + y^2}$, $\\phi = arctan2(y/x)$):\n",
    "$$ \\phi_{new} = \\phi + i(ar + br^2),$$\n",
    "where $i$ is increased incrementally from 0 (straight tracks) to some number (curve tracks).\n",
    "\n",
    "\n",
    "However, the above equation is not exact to relate those two features. Instead, one might want to use the Hough transform:\n",
    "$$  \\frac{r}{2r_0} =  \\cos(\\phi - \\theta) $$\n",
    "\n",
    "In the above equation, $\\phi$ and $r$ are the original $\\phi$ and $r$ of each hit, while $r_0$ and $\\theta$ are the $r$ and $\\phi$ of a specific point in the XY plane, that is the origin of a circle in XY plane. That circle passes through the inspected hit. \n",
    "\n",
    "Then, our clustering problem can be stated this way:\n",
    "- For each $\\frac{1}{2r_0}$, starting from 0 (corresponding to straight tracks), to an appropriate stopping point, we calculate $\\theta = \\phi - \\arccos(\\frac{r}{2r_0})$\n",
    "- Group all hits with the near $\\theta$ and some other features to a detected track by DBSCAN. Since $\\theta$ can take very large or small values, using $\\sin(\\theta)$ and $\\cos(\\theta)$ is better.\n"
   ]
  },
  {
   "cell_type": "code",
   "execution_count": 1,
   "metadata": {
    "_cell_guid": "e081740e-8169-4481-b1df-f5dd5488314f",
    "_uuid": "0bee86255243664f24e4bcf48af2228a3100a8b7"
   },
   "outputs": [],
   "source": [
    "import multiprocessing as mp\n",
    "\n",
    "import matplotlib.pyplot as plt\n",
    "import numpy as np\n",
    "import pandas as pd\n",
    "import os\n",
    "from sklearn.preprocessing import StandardScaler\n",
    "#import hdbscan\n",
    "from scipy import stats\n",
    "from tqdm import tqdm\n",
    "from sklearn.cluster import DBSCAN\n",
    "\n",
    "from IPython.display import clear_output\n",
    "\n",
    "from trackml_helper import *\n",
    "from analysis import *\n",
    "import random\n"
   ]
  },
  {
   "cell_type": "code",
   "execution_count": 2,
   "metadata": {
    "_cell_guid": "e06d1ed7-5091-4d67-abb4-5984b137e2e6",
    "_uuid": "c2f70ae63abffcc09a534bb17fb89df8ffddb722",
    "scrolled": true
   },
   "outputs": [],
   "source": [
    "def merge(cl1, cl2): # merge cluster 2 to cluster 1\n",
    "    d = pd.DataFrame(data={'s1':cl1,'s2':cl2})\n",
    "    d['N1'] = d.groupby('s1')['s1'].transform('count')\n",
    "    d['N2'] = d.groupby('s2')['s2'].transform('count')\n",
    "    maxs1 = d['s1'].max()\n",
    "    cond = np.where((d['N2'].values>d['N1'].values) & (d['N2'].values<19)) # Locate the hit with the new cluster> old cluster\n",
    "    s1 = d['s1'].values \n",
    "    s1[cond] = d['s2'].values[cond]+maxs1 # Assign all hits that belong to the new track (+ maxs1 to increase the label for the track so it's different from the original).\n",
    "    return s1\n",
    "\n",
    "def extract_good_hits(truth, submission):\n",
    "    tru = truth[['hit_id', 'particle_id', 'weight']].merge(submission, how='left', on='hit_id')\n",
    "    tru['count_both'] = tru.groupby(['track_id', 'particle_id']).hit_id.transform('count')    \n",
    "    tru['count_particle'] = tru.groupby(['particle_id']).hit_id.transform('count')\n",
    "    tru['count_track'] = tru.groupby(['track_id']).hit_id.transform('count')\n",
    "    return tru[(tru.count_both > 0.5*tru.count_particle) & (tru.count_both > 0.5*tru.count_track)]\n",
    "\n",
    "def fast_score(good_hits_df):\n",
    "    return good_hits_df.weight.sum()"
   ]
  },
  {
   "cell_type": "code",
   "execution_count": 3,
   "metadata": {},
   "outputs": [],
   "source": [
    "if False: #tuning\n",
    "    path_to_train = \"/home/alexanderliao/data/Kaggle/competitions/trackml-particle-identification/train\"\n",
    "    event_prefix = \"event000001000\"\n",
    "    hits, cells, particles, truth = load_event(os.path.join(path_to_train, event_prefix))\n",
    "    "
   ]
  },
  {
   "cell_type": "code",
   "execution_count": 4,
   "metadata": {},
   "outputs": [],
   "source": [
    "\n",
    "\n",
    "def analyze_truth_perspective(truth, submission):\n",
    "    tru = truth[['hit_id', 'particle_id', 'weight']].merge(submission, how='left', on='hit_id')\n",
    "    tru['count_both'] = tru.groupby(['track_id', 'particle_id']).hit_id.transform('count')    \n",
    "    tru['count_particle'] = tru.groupby(['particle_id']).hit_id.transform('count')\n",
    "    tru['count_track'] = tru.groupby(['track_id']).hit_id.transform('count')\n",
    "    good_hits = tru[(tru.count_both > 0.5*tru.count_particle) & (tru.count_both > 0.5*tru.count_track)]\n",
    "    score = good_hits.weight.sum()\n",
    "    \n",
    "    anatru = tru.particle_id.value_counts().value_counts().sort_index().to_frame().rename({'particle_id':'true_particle_counts'}, axis=1)\n",
    "    #anatru['true_particle_ratio'] = anatru['true_particle_counts'].values*100/np.sum(anatru['true_particle_counts'])\n",
    "\n",
    "    anatru['good_tracks_counts'] = np.zeros(len(anatru)).astype(int)\n",
    "    anatru['good_tracks_intersect_nhits_avg'] = np.zeros(len(anatru))\n",
    "    anatru['best_detect_intersect_nhits_avg'] = np.zeros(len(anatru))\n",
    "    for nhit in tqdm(range(4,20)):\n",
    "        particle_list  = tru[(tru.count_particle==nhit)].particle_id.unique()\n",
    "        intersect_count = 0\n",
    "        good_tracks_count = 0\n",
    "        good_tracks_intersect = 0\n",
    "        for p in particle_list:\n",
    "            nhit_intersect = tru[tru.particle_id==p].count_both.max()\n",
    "            intersect_count += nhit_intersect\n",
    "            corresponding_track = tru.loc[tru[tru.particle_id==p].count_both.idxmax()].track_id\n",
    "            leng_corresponding_track = len(tru[tru.track_id == corresponding_track])\n",
    "            \n",
    "            if (nhit_intersect >= nhit/2) and (nhit_intersect >= leng_corresponding_track/2):\n",
    "                good_tracks_count += 1\n",
    "                good_tracks_intersect += nhit_intersect\n",
    "        intersect_count = intersect_count/len(particle_list)\n",
    "        anatru.at[nhit,'best_detect_intersect_nhits_avg'] = intersect_count\n",
    "        anatru.at[nhit,'good_tracks_counts'] = good_tracks_count\n",
    "        if good_tracks_count > 0:\n",
    "            anatru.at[nhit,'good_tracks_intersect_nhits_avg'] = good_tracks_intersect/good_tracks_count\n",
    "    \n",
    "    return score, anatru, good_hits\n",
    "\n",
    "def precision(truth, submission,min_hits):\n",
    "    tru = truth[['hit_id', 'particle_id', 'weight']].merge(submission, how='left', on='hit_id')\n",
    "    tru['count_both'] = tru.groupby(['track_id', 'particle_id']).hit_id.transform('count')    \n",
    "    tru['count_particle'] = tru.groupby(['particle_id']).hit_id.transform('count')\n",
    "    tru['count_track'] = tru.groupby(['track_id']).hit_id.transform('count')\n",
    "    #print('Analyzing predictions...')\n",
    "    predicted_list  = tru[(tru.count_track>=min_hits)].track_id.unique()\n",
    "    good_tracks_count = 0\n",
    "    ghost_tracks_count = 0\n",
    "    fp_weights = 0\n",
    "    tp_weights = 0\n",
    "    for t in predicted_list:\n",
    "        nhit_track = tru[tru.track_id==t].count_track.iloc[0]\n",
    "        nhit_intersect = tru[tru.track_id==t].count_both.max()\n",
    "        corresponding_particle = tru.loc[tru[tru.track_id==t].count_both.idxmax()].particle_id\n",
    "        leng_corresponding_particle = len(tru[tru.particle_id == corresponding_particle])\n",
    "        if (nhit_intersect >= nhit_track/2) and (nhit_intersect >= leng_corresponding_particle/2): #if the predicted track is good\n",
    "            good_tracks_count += 1\n",
    "            tp_weights += tru[(tru.track_id==t)&(tru.particle_id==corresponding_particle)].weight.sum()\n",
    "            fp_weights += tru[(tru.track_id==t)&(tru.particle_id!=corresponding_particle)].weight.sum()\n",
    "        else: # if the predicted track is bad\n",
    "                ghost_tracks_count += 1\n",
    "                fp_weights += tru[(tru.track_id==t)].weight.sum()\n",
    "    all_weights = tru[(tru.count_track>=min_hits)].weight.sum()\n",
    "    precision = tp_weights/all_weights*100\n",
    "    print('Precision: ',precision,', good tracks:', good_tracks_count,', total tracks:',len(predicted_list),\n",
    "           ', loss:', fp_weights, ', reco:', tp_weights, 'reco/loss', tp_weights/fp_weights)\n",
    "    return precision\n"
   ]
  },
  {
   "cell_type": "code",
   "execution_count": 5,
   "metadata": {},
   "outputs": [],
   "source": [
    "def create_one_event_submission(event_id, hits, labels):\n",
    "    sub_data = np.column_stack(([event_id]*len(hits), hits.hit_id.values, labels))\n",
    "    submission = pd.DataFrame(data=sub_data, columns=[\"event_id\", \"hit_id\", \"track_id\"]).astype(int)\n",
    "    return submission  \n",
    "\n",
    "def preprocess_hits(h,dz):\n",
    "    h['z'] =  h['z'].values + dz\n",
    "    h['r'] = np.sqrt(h['x'].values**2+h['y'].values**2+h['z'].values**2)\n",
    "    h['rt'] = np.sqrt(h['x'].values**2+h['y'].values**2)\n",
    "    h['a0'] = np.arctan2(h['y'].values,h['x'].values)\n",
    "    h['zdivrt'] = h['z'].values/h['rt'].values\n",
    "    h['zdivr'] = h['z'].values/h['r'].values\n",
    "    h['xdivr'] = h['x'].values / h['r'].values\n",
    "    h['ydivr'] = h['y'].values / h['r'].values\n",
    "    return h"
   ]
  },
  {
   "cell_type": "code",
   "execution_count": 6,
   "metadata": {},
   "outputs": [],
   "source": [
    "def smart_arccos(x):\n",
    "    max_mask = x > 1\n",
    "    min_mask = x < -1\n",
    "    ret = np.arccos(x, where=~(max_mask|min_mask))\n",
    "    ret[max_mask] = 0.0\n",
    "    ret[min_mask] = np.pi\n",
    "    return np.pi\n",
    "\n",
    "class Clusterer(object):\n",
    "    def __init__(self):                        \n",
    "        self.abc = []\n",
    "          \n",
    "    def initialize(self,dfhits):\n",
    "        self.cluster = range(len(dfhits))\n",
    "        \n",
    "    def Hough_clustering(self,dfh,coef,epsilon,min_samples=1,n_loop=180,verbose=True): # [phi_coef,phi_coef,zdivrt_coef,zdivr_coef,xdivr_coef,ydivr_coef]\n",
    "        merged_cluster = self.cluster\n",
    "        mm = 1\n",
    "        stepii = 0.000005\n",
    "        count_ii = 0\n",
    "        adaptive_eps_coefficient = 1\n",
    "        #z = np.arange(-5.5,5.5,0.01)\n",
    "        #random.choice(z)\n",
    "        for ii in np.arange(0, n_loop*stepii, stepii):\n",
    "            count_ii += 1\n",
    "            for jj in range(2):\n",
    "                mm = mm*(-1)\n",
    "                eps_new = epsilon + count_ii*adaptive_eps_coefficient*10**(-5)\n",
    "                #eps_new = 0.0035\n",
    "                \n",
    "                \"\"\"\n",
    "                dfh['a1'] = dfh['a0'].values - smart_arccos(mm*ii*dfh['rt'].values)\n",
    "                dfh['sina1']= np.sin(dfh['a1'].values)\n",
    "                dfh['cosa1']= np.cos(dfh['a1'].values)\n",
    "                \n",
    "                \"\"\"\n",
    "                dfh['a1'] = dfh['a0'].values - np.arccos(mm*ii*dfh['rt'].values)\n",
    "                cond=np.where(np.isfinite(dfh['a1'].values))\n",
    "                dfh['sina1'] = np.random.rand(len(dfh))\n",
    "                dfh['cosa1'] = np.random.rand(len(dfh))\n",
    "                dfh['sina1'].values[cond] = np.sin(dfh['a1'].values[cond])\n",
    "                dfh['cosa1'].values[cond] = np.cos(dfh['a1'].values[cond])\n",
    "                \n",
    "                \n",
    "                ss = StandardScaler()\n",
    "                dfs = ss.fit_transform(dfh[['sina1','cosa1','zdivrt','zdivr','xdivr','ydivr']].values) \n",
    "                #dfs = scale_ignore_nan(dfh[['sina1','cosa1','zdivrt','zdivr','xdivr','ydivr']])\n",
    "                dfs = np.multiply(dfs, coef)\n",
    "                new_cluster=DBSCAN(eps=eps_new,min_samples=min_samples,metric='euclidean',n_jobs=-1).fit(dfs).labels_\n",
    "                \n",
    "                cond=np.where(np.bincount(new_cluster)>45)\n",
    "                new_cluster[cond] = np.random.randint(low=max(new_cluster),size=len(cond))\n",
    "                \n",
    "                merged_cluster = merge(merged_cluster, new_cluster)\n",
    "                \n",
    "                if verbose == True:\n",
    "                    sub = create_one_event_submission(0, hits, merged_cluster)\n",
    "                    good_hits = extract_good_hits(truth, sub)\n",
    "                    score_1 = fast_score(good_hits)\n",
    "                    print('2r0_inverse:', ii*mm ,'. Score:', score_1)\n",
    "                    #clear_output(wait=True)\n",
    "        self.cluster = merged_cluster                 "
   ]
  },
  {
   "cell_type": "code",
   "execution_count": 7,
   "metadata": {},
   "outputs": [],
   "source": [
    "# Clustering by varying \n",
    "#model = Clusterer()\n",
    "#model.initialize(hits) \n",
    "if False:\n",
    "    c = [1.5,1.5,0.73,0.17,0.027,0.027] #[phi_coef,phi_coef,zdivrt_coef,zdivr_coef,xdivr_coef,ydivr_coef]\n",
    "    min_samples_in_cluster = 1\n",
    "\n",
    "    model = Clusterer()\n",
    "    model.initialize(hits) \n",
    "    hits_with_dz = preprocess_hits(hits, 0)\n",
    "    model.Hough_clustering(hits_with_dz,coef=c,epsilon=0.0048,min_samples=min_samples_in_cluster,\n",
    "                           n_loop=300,verbose=True)\n",
    "\n",
    "    submission = create_one_event_submission(0, hits, model.cluster)\n",
    "    print('\\n')"
   ]
  },
  {
   "cell_type": "code",
   "execution_count": 8,
   "metadata": {},
   "outputs": [
    {
     "ename": "NameError",
     "evalue": "name 'truth' is not defined",
     "output_type": "error",
     "traceback": [
      "\u001b[0;31m---------------------------------------------------------------------------\u001b[0m",
      "\u001b[0;31mNameError\u001b[0m                                 Traceback (most recent call last)",
      "\u001b[0;32m<ipython-input-8-8e28894b204d>\u001b[0m in \u001b[0;36m<module>\u001b[0;34m()\u001b[0m\n\u001b[0;32m----> 1\u001b[0;31m \u001b[0mpr\u001b[0m \u001b[0;34m=\u001b[0m \u001b[0mprecision\u001b[0m\u001b[0;34m(\u001b[0m\u001b[0mtruth\u001b[0m\u001b[0;34m,\u001b[0m\u001b[0msubmission\u001b[0m\u001b[0;34m,\u001b[0m\u001b[0mmin_hits\u001b[0m\u001b[0;34m=\u001b[0m\u001b[0;36m10\u001b[0m\u001b[0;34m)\u001b[0m\u001b[0;34m\u001b[0m\u001b[0m\n\u001b[0m",
      "\u001b[0;31mNameError\u001b[0m: name 'truth' is not defined"
     ]
    }
   ],
   "source": [
    "pr = precision(truth,submission,min_hits=10)"
   ]
  },
  {
   "cell_type": "code",
   "execution_count": 9,
   "metadata": {},
   "outputs": [
    {
     "ename": "NameError",
     "evalue": "name 'truth' is not defined",
     "output_type": "error",
     "traceback": [
      "\u001b[0;31m---------------------------------------------------------------------------\u001b[0m",
      "\u001b[0;31mNameError\u001b[0m                                 Traceback (most recent call last)",
      "\u001b[0;32m<ipython-input-9-8988f8223b3b>\u001b[0m in \u001b[0;36m<module>\u001b[0;34m()\u001b[0m\n\u001b[0;32m----> 1\u001b[0;31m \u001b[0mpr\u001b[0m \u001b[0;34m=\u001b[0m \u001b[0mprecision\u001b[0m\u001b[0;34m(\u001b[0m\u001b[0mtruth\u001b[0m\u001b[0;34m,\u001b[0m\u001b[0msubmission\u001b[0m\u001b[0;34m,\u001b[0m\u001b[0mmin_hits\u001b[0m\u001b[0;34m=\u001b[0m\u001b[0;36m7\u001b[0m\u001b[0;34m)\u001b[0m\u001b[0;34m\u001b[0m\u001b[0m\n\u001b[0m",
      "\u001b[0;31mNameError\u001b[0m: name 'truth' is not defined"
     ]
    }
   ],
   "source": [
    "pr = precision(truth,submission,min_hits=7)"
   ]
  },
  {
   "cell_type": "code",
   "execution_count": 10,
   "metadata": {},
   "outputs": [
    {
     "ename": "NameError",
     "evalue": "name 'truth' is not defined",
     "output_type": "error",
     "traceback": [
      "\u001b[0;31m---------------------------------------------------------------------------\u001b[0m",
      "\u001b[0;31mNameError\u001b[0m                                 Traceback (most recent call last)",
      "\u001b[0;32m<ipython-input-10-6aa0bda6c752>\u001b[0m in \u001b[0;36m<module>\u001b[0;34m()\u001b[0m\n\u001b[0;32m----> 1\u001b[0;31m \u001b[0mpr\u001b[0m \u001b[0;34m=\u001b[0m \u001b[0mprecision\u001b[0m\u001b[0;34m(\u001b[0m\u001b[0mtruth\u001b[0m\u001b[0;34m,\u001b[0m\u001b[0msubmission\u001b[0m\u001b[0;34m,\u001b[0m\u001b[0mmin_hits\u001b[0m\u001b[0;34m=\u001b[0m\u001b[0;36m4\u001b[0m\u001b[0;34m)\u001b[0m\u001b[0;34m\u001b[0m\u001b[0m\n\u001b[0m",
      "\u001b[0;31mNameError\u001b[0m: name 'truth' is not defined"
     ]
    }
   ],
   "source": [
    "pr = precision(truth,submission,min_hits=4)"
   ]
  },
  {
   "cell_type": "code",
   "execution_count": 11,
   "metadata": {},
   "outputs": [
    {
     "ename": "NameError",
     "evalue": "name 'truth' is not defined",
     "output_type": "error",
     "traceback": [
      "\u001b[0;31m---------------------------------------------------------------------------\u001b[0m",
      "\u001b[0;31mNameError\u001b[0m                                 Traceback (most recent call last)",
      "\u001b[0;32m<ipython-input-11-403af83388b0>\u001b[0m in \u001b[0;36m<module>\u001b[0;34m()\u001b[0m\n\u001b[0;32m----> 1\u001b[0;31m \u001b[0mpr\u001b[0m \u001b[0;34m=\u001b[0m \u001b[0mprecision\u001b[0m\u001b[0;34m(\u001b[0m\u001b[0mtruth\u001b[0m\u001b[0;34m,\u001b[0m\u001b[0msubmission\u001b[0m\u001b[0;34m,\u001b[0m\u001b[0mmin_hits\u001b[0m\u001b[0;34m=\u001b[0m\u001b[0;36m1\u001b[0m\u001b[0;34m)\u001b[0m\u001b[0;34m\u001b[0m\u001b[0m\n\u001b[0m",
      "\u001b[0;31mNameError\u001b[0m: name 'truth' is not defined"
     ]
    }
   ],
   "source": [
    "pr = precision(truth,submission,min_hits=1)"
   ]
  },
  {
   "cell_type": "code",
   "execution_count": 12,
   "metadata": {},
   "outputs": [],
   "source": [
    "if False: #benchmark\n",
    "    c = [1.6,1.6,0.73,0.17,0.027,0.027]\n",
    "    model = Clusterer()\n",
    "    model.initialize(hits) \n",
    "    hits_with_dz = preprocess_hits(hits, 0)\n",
    "    model.Clustering(hits,coef=c,\n",
    "                           epsilon=0.0048,\n",
    "                           min_samples=1,\n",
    "                           n_loop=180,\n",
    "                           stepii=0.000005,\n",
    "                           verbose=True)"
   ]
  },
  {
   "cell_type": "code",
   "execution_count": null,
   "metadata": {},
   "outputs": [
    {
     "name": "stderr",
     "output_type": "stream",
     "text": [
      "  0%|          | 0/125 [00:00<?, ?it/s]/home/alexanderliao/anaconda3/envs/py36/lib/python3.6/site-packages/ipykernel_launcher.py:37: RuntimeWarning: invalid value encountered in arccos\n",
      "/home/alexanderliao/anaconda3/envs/py36/lib/python3.6/site-packages/ipykernel_launcher.py:37: RuntimeWarning: invalid value encountered in arccos\n",
      "/home/alexanderliao/anaconda3/envs/py36/lib/python3.6/site-packages/ipykernel_launcher.py:37: RuntimeWarning: invalid value encountered in arccos\n",
      "/home/alexanderliao/anaconda3/envs/py36/lib/python3.6/site-packages/ipykernel_launcher.py:37: RuntimeWarning: invalid value encountered in arccos\n",
      "/home/alexanderliao/anaconda3/envs/py36/lib/python3.6/site-packages/ipykernel_launcher.py:37: RuntimeWarning: invalid value encountered in arccos\n",
      "/home/alexanderliao/anaconda3/envs/py36/lib/python3.6/site-packages/ipykernel_launcher.py:37: RuntimeWarning: invalid value encountered in arccos\n",
      "/home/alexanderliao/anaconda3/envs/py36/lib/python3.6/site-packages/ipykernel_launcher.py:37: RuntimeWarning: invalid value encountered in arccos\n",
      "/home/alexanderliao/anaconda3/envs/py36/lib/python3.6/site-packages/ipykernel_launcher.py:37: RuntimeWarning: invalid value encountered in arccos\n",
      "/home/alexanderliao/anaconda3/envs/py36/lib/python3.6/site-packages/ipykernel_launcher.py:37: RuntimeWarning: invalid value encountered in arccos\n",
      "/home/alexanderliao/anaconda3/envs/py36/lib/python3.6/site-packages/ipykernel_launcher.py:37: RuntimeWarning: invalid value encountered in arccos\n",
      "/home/alexanderliao/anaconda3/envs/py36/lib/python3.6/site-packages/ipykernel_launcher.py:37: RuntimeWarning: invalid value encountered in arccos\n",
      "/home/alexanderliao/anaconda3/envs/py36/lib/python3.6/site-packages/ipykernel_launcher.py:37: RuntimeWarning: invalid value encountered in arccos\n",
      "/home/alexanderliao/anaconda3/envs/py36/lib/python3.6/site-packages/ipykernel_launcher.py:37: RuntimeWarning: invalid value encountered in arccos\n",
      "/home/alexanderliao/anaconda3/envs/py36/lib/python3.6/site-packages/ipykernel_launcher.py:37: RuntimeWarning: invalid value encountered in arccos\n",
      "/home/alexanderliao/anaconda3/envs/py36/lib/python3.6/site-packages/ipykernel_launcher.py:37: RuntimeWarning: invalid value encountered in arccos\n",
      "/home/alexanderliao/anaconda3/envs/py36/lib/python3.6/site-packages/ipykernel_launcher.py:37: RuntimeWarning: invalid value encountered in arccos\n",
      "/home/alexanderliao/anaconda3/envs/py36/lib/python3.6/site-packages/ipykernel_launcher.py:37: RuntimeWarning: invalid value encountered in arccos\n",
      "/home/alexanderliao/anaconda3/envs/py36/lib/python3.6/site-packages/ipykernel_launcher.py:37: RuntimeWarning: invalid value encountered in arccos\n",
      "/home/alexanderliao/anaconda3/envs/py36/lib/python3.6/site-packages/ipykernel_launcher.py:37: RuntimeWarning: invalid value encountered in arccos\n",
      "/home/alexanderliao/anaconda3/envs/py36/lib/python3.6/site-packages/ipykernel_launcher.py:37: RuntimeWarning: invalid value encountered in arccos\n",
      "/home/alexanderliao/anaconda3/envs/py36/lib/python3.6/site-packages/ipykernel_launcher.py:37: RuntimeWarning: invalid value encountered in arccos\n",
      "/home/alexanderliao/anaconda3/envs/py36/lib/python3.6/site-packages/ipykernel_launcher.py:37: RuntimeWarning: invalid value encountered in arccos\n",
      "/home/alexanderliao/anaconda3/envs/py36/lib/python3.6/site-packages/ipykernel_launcher.py:37: RuntimeWarning: invalid value encountered in arccos\n",
      "/home/alexanderliao/anaconda3/envs/py36/lib/python3.6/site-packages/ipykernel_launcher.py:37: RuntimeWarning: invalid value encountered in arccos\n",
      "/home/alexanderliao/anaconda3/envs/py36/lib/python3.6/site-packages/ipykernel_launcher.py:37: RuntimeWarning: invalid value encountered in arccos\n",
      "/home/alexanderliao/anaconda3/envs/py36/lib/python3.6/site-packages/ipykernel_launcher.py:37: RuntimeWarning: invalid value encountered in arccos\n",
      "/home/alexanderliao/anaconda3/envs/py36/lib/python3.6/site-packages/ipykernel_launcher.py:37: RuntimeWarning: invalid value encountered in arccos\n",
      "/home/alexanderliao/anaconda3/envs/py36/lib/python3.6/site-packages/ipykernel_launcher.py:37: RuntimeWarning: invalid value encountered in arccos\n",
      "/home/alexanderliao/anaconda3/envs/py36/lib/python3.6/site-packages/ipykernel_launcher.py:37: RuntimeWarning: invalid value encountered in arccos\n",
      "/home/alexanderliao/anaconda3/envs/py36/lib/python3.6/site-packages/ipykernel_launcher.py:37: RuntimeWarning: invalid value encountered in arccos\n",
      "/home/alexanderliao/anaconda3/envs/py36/lib/python3.6/site-packages/ipykernel_launcher.py:37: RuntimeWarning: invalid value encountered in arccos\n",
      "/home/alexanderliao/anaconda3/envs/py36/lib/python3.6/site-packages/ipykernel_launcher.py:37: RuntimeWarning: invalid value encountered in arccos\n",
      "/home/alexanderliao/anaconda3/envs/py36/lib/python3.6/site-packages/ipykernel_launcher.py:37: RuntimeWarning: invalid value encountered in arccos\n",
      "/home/alexanderliao/anaconda3/envs/py36/lib/python3.6/site-packages/ipykernel_launcher.py:37: RuntimeWarning: invalid value encountered in arccos\n",
      "/home/alexanderliao/anaconda3/envs/py36/lib/python3.6/site-packages/ipykernel_launcher.py:37: RuntimeWarning: invalid value encountered in arccos\n",
      "/home/alexanderliao/anaconda3/envs/py36/lib/python3.6/site-packages/ipykernel_launcher.py:37: RuntimeWarning: invalid value encountered in arccos\n",
      "/home/alexanderliao/anaconda3/envs/py36/lib/python3.6/site-packages/ipykernel_launcher.py:37: RuntimeWarning: invalid value encountered in arccos\n",
      "/home/alexanderliao/anaconda3/envs/py36/lib/python3.6/site-packages/ipykernel_launcher.py:37: RuntimeWarning: invalid value encountered in arccos\n",
      "/home/alexanderliao/anaconda3/envs/py36/lib/python3.6/site-packages/ipykernel_launcher.py:37: RuntimeWarning: invalid value encountered in arccos\n",
      "/home/alexanderliao/anaconda3/envs/py36/lib/python3.6/site-packages/ipykernel_launcher.py:37: RuntimeWarning: invalid value encountered in arccos\n",
      "/home/alexanderliao/anaconda3/envs/py36/lib/python3.6/site-packages/ipykernel_launcher.py:37: RuntimeWarning: invalid value encountered in arccos\n",
      "/home/alexanderliao/anaconda3/envs/py36/lib/python3.6/site-packages/ipykernel_launcher.py:37: RuntimeWarning: invalid value encountered in arccos\n",
      "/home/alexanderliao/anaconda3/envs/py36/lib/python3.6/site-packages/ipykernel_launcher.py:37: RuntimeWarning: invalid value encountered in arccos\n",
      "/home/alexanderliao/anaconda3/envs/py36/lib/python3.6/site-packages/ipykernel_launcher.py:37: RuntimeWarning: invalid value encountered in arccos\n",
      "/home/alexanderliao/anaconda3/envs/py36/lib/python3.6/site-packages/ipykernel_launcher.py:37: RuntimeWarning: invalid value encountered in arccos\n",
      "/home/alexanderliao/anaconda3/envs/py36/lib/python3.6/site-packages/ipykernel_launcher.py:37: RuntimeWarning: invalid value encountered in arccos\n",
      "/home/alexanderliao/anaconda3/envs/py36/lib/python3.6/site-packages/ipykernel_launcher.py:37: RuntimeWarning: invalid value encountered in arccos\n",
      "/home/alexanderliao/anaconda3/envs/py36/lib/python3.6/site-packages/ipykernel_launcher.py:37: RuntimeWarning: invalid value encountered in arccos\n",
      "/home/alexanderliao/anaconda3/envs/py36/lib/python3.6/site-packages/ipykernel_launcher.py:37: RuntimeWarning: invalid value encountered in arccos\n",
      "/home/alexanderliao/anaconda3/envs/py36/lib/python3.6/site-packages/ipykernel_launcher.py:37: RuntimeWarning: invalid value encountered in arccos\n",
      "/home/alexanderliao/anaconda3/envs/py36/lib/python3.6/site-packages/ipykernel_launcher.py:37: RuntimeWarning: invalid value encountered in arccos\n",
      "/home/alexanderliao/anaconda3/envs/py36/lib/python3.6/site-packages/ipykernel_launcher.py:37: RuntimeWarning: invalid value encountered in arccos\n",
      "/home/alexanderliao/anaconda3/envs/py36/lib/python3.6/site-packages/ipykernel_launcher.py:37: RuntimeWarning: invalid value encountered in arccos\n",
      "/home/alexanderliao/anaconda3/envs/py36/lib/python3.6/site-packages/ipykernel_launcher.py:37: RuntimeWarning: invalid value encountered in arccos\n",
      "/home/alexanderliao/anaconda3/envs/py36/lib/python3.6/site-packages/ipykernel_launcher.py:37: RuntimeWarning: invalid value encountered in arccos\n",
      "/home/alexanderliao/anaconda3/envs/py36/lib/python3.6/site-packages/ipykernel_launcher.py:37: RuntimeWarning: invalid value encountered in arccos\n"
     ]
    },
    {
     "name": "stderr",
     "output_type": "stream",
     "text": [
      "/home/alexanderliao/anaconda3/envs/py36/lib/python3.6/site-packages/ipykernel_launcher.py:37: RuntimeWarning: invalid value encountered in arccos\n",
      "/home/alexanderliao/anaconda3/envs/py36/lib/python3.6/site-packages/ipykernel_launcher.py:37: RuntimeWarning: invalid value encountered in arccos\n",
      "/home/alexanderliao/anaconda3/envs/py36/lib/python3.6/site-packages/ipykernel_launcher.py:37: RuntimeWarning: invalid value encountered in arccos\n",
      "/home/alexanderliao/anaconda3/envs/py36/lib/python3.6/site-packages/ipykernel_launcher.py:37: RuntimeWarning: invalid value encountered in arccos\n",
      "/home/alexanderliao/anaconda3/envs/py36/lib/python3.6/site-packages/ipykernel_launcher.py:37: RuntimeWarning: invalid value encountered in arccos\n",
      "/home/alexanderliao/anaconda3/envs/py36/lib/python3.6/site-packages/ipykernel_launcher.py:37: RuntimeWarning: invalid value encountered in arccos\n",
      "/home/alexanderliao/anaconda3/envs/py36/lib/python3.6/site-packages/ipykernel_launcher.py:37: RuntimeWarning: invalid value encountered in arccos\n",
      "/home/alexanderliao/anaconda3/envs/py36/lib/python3.6/site-packages/ipykernel_launcher.py:37: RuntimeWarning: invalid value encountered in arccos\n",
      "/home/alexanderliao/anaconda3/envs/py36/lib/python3.6/site-packages/ipykernel_launcher.py:37: RuntimeWarning: invalid value encountered in arccos\n",
      "/home/alexanderliao/anaconda3/envs/py36/lib/python3.6/site-packages/ipykernel_launcher.py:37: RuntimeWarning: invalid value encountered in arccos\n",
      "/home/alexanderliao/anaconda3/envs/py36/lib/python3.6/site-packages/ipykernel_launcher.py:37: RuntimeWarning: invalid value encountered in arccos\n",
      "/home/alexanderliao/anaconda3/envs/py36/lib/python3.6/site-packages/ipykernel_launcher.py:37: RuntimeWarning: invalid value encountered in arccos\n",
      "/home/alexanderliao/anaconda3/envs/py36/lib/python3.6/site-packages/ipykernel_launcher.py:37: RuntimeWarning: invalid value encountered in arccos\n",
      "/home/alexanderliao/anaconda3/envs/py36/lib/python3.6/site-packages/ipykernel_launcher.py:37: RuntimeWarning: invalid value encountered in arccos\n",
      "/home/alexanderliao/anaconda3/envs/py36/lib/python3.6/site-packages/ipykernel_launcher.py:37: RuntimeWarning: invalid value encountered in arccos\n",
      "/home/alexanderliao/anaconda3/envs/py36/lib/python3.6/site-packages/ipykernel_launcher.py:37: RuntimeWarning: invalid value encountered in arccos\n",
      "/home/alexanderliao/anaconda3/envs/py36/lib/python3.6/site-packages/ipykernel_launcher.py:37: RuntimeWarning: invalid value encountered in arccos\n",
      "/home/alexanderliao/anaconda3/envs/py36/lib/python3.6/site-packages/ipykernel_launcher.py:37: RuntimeWarning: invalid value encountered in arccos\n",
      "/home/alexanderliao/anaconda3/envs/py36/lib/python3.6/site-packages/ipykernel_launcher.py:37: RuntimeWarning: invalid value encountered in arccos\n",
      "/home/alexanderliao/anaconda3/envs/py36/lib/python3.6/site-packages/ipykernel_launcher.py:37: RuntimeWarning: invalid value encountered in arccos\n",
      "/home/alexanderliao/anaconda3/envs/py36/lib/python3.6/site-packages/ipykernel_launcher.py:37: RuntimeWarning: invalid value encountered in arccos\n",
      "/home/alexanderliao/anaconda3/envs/py36/lib/python3.6/site-packages/ipykernel_launcher.py:37: RuntimeWarning: invalid value encountered in arccos\n",
      "/home/alexanderliao/anaconda3/envs/py36/lib/python3.6/site-packages/ipykernel_launcher.py:37: RuntimeWarning: invalid value encountered in arccos\n",
      "/home/alexanderliao/anaconda3/envs/py36/lib/python3.6/site-packages/ipykernel_launcher.py:37: RuntimeWarning: invalid value encountered in arccos\n",
      "/home/alexanderliao/anaconda3/envs/py36/lib/python3.6/site-packages/ipykernel_launcher.py:37: RuntimeWarning: invalid value encountered in arccos\n",
      "/home/alexanderliao/anaconda3/envs/py36/lib/python3.6/site-packages/ipykernel_launcher.py:37: RuntimeWarning: invalid value encountered in arccos\n",
      "/home/alexanderliao/anaconda3/envs/py36/lib/python3.6/site-packages/ipykernel_launcher.py:37: RuntimeWarning: invalid value encountered in arccos\n",
      "/home/alexanderliao/anaconda3/envs/py36/lib/python3.6/site-packages/ipykernel_launcher.py:37: RuntimeWarning: invalid value encountered in arccos\n",
      "/home/alexanderliao/anaconda3/envs/py36/lib/python3.6/site-packages/ipykernel_launcher.py:37: RuntimeWarning: invalid value encountered in arccos\n",
      "/home/alexanderliao/anaconda3/envs/py36/lib/python3.6/site-packages/ipykernel_launcher.py:37: RuntimeWarning: invalid value encountered in arccos\n",
      "/home/alexanderliao/anaconda3/envs/py36/lib/python3.6/site-packages/ipykernel_launcher.py:37: RuntimeWarning: invalid value encountered in arccos\n",
      "/home/alexanderliao/anaconda3/envs/py36/lib/python3.6/site-packages/ipykernel_launcher.py:37: RuntimeWarning: invalid value encountered in arccos\n",
      "/home/alexanderliao/anaconda3/envs/py36/lib/python3.6/site-packages/ipykernel_launcher.py:37: RuntimeWarning: invalid value encountered in arccos\n",
      "/home/alexanderliao/anaconda3/envs/py36/lib/python3.6/site-packages/ipykernel_launcher.py:37: RuntimeWarning: invalid value encountered in arccos\n",
      "/home/alexanderliao/anaconda3/envs/py36/lib/python3.6/site-packages/ipykernel_launcher.py:37: RuntimeWarning: invalid value encountered in arccos\n",
      "/home/alexanderliao/anaconda3/envs/py36/lib/python3.6/site-packages/ipykernel_launcher.py:37: RuntimeWarning: invalid value encountered in arccos\n",
      "/home/alexanderliao/anaconda3/envs/py36/lib/python3.6/site-packages/ipykernel_launcher.py:37: RuntimeWarning: invalid value encountered in arccos\n",
      "/home/alexanderliao/anaconda3/envs/py36/lib/python3.6/site-packages/ipykernel_launcher.py:37: RuntimeWarning: invalid value encountered in arccos\n",
      "/home/alexanderliao/anaconda3/envs/py36/lib/python3.6/site-packages/ipykernel_launcher.py:37: RuntimeWarning: invalid value encountered in arccos\n",
      "/home/alexanderliao/anaconda3/envs/py36/lib/python3.6/site-packages/ipykernel_launcher.py:37: RuntimeWarning: invalid value encountered in arccos\n",
      "/home/alexanderliao/anaconda3/envs/py36/lib/python3.6/site-packages/ipykernel_launcher.py:37: RuntimeWarning: invalid value encountered in arccos\n",
      "/home/alexanderliao/anaconda3/envs/py36/lib/python3.6/site-packages/ipykernel_launcher.py:37: RuntimeWarning: invalid value encountered in arccos\n",
      "/home/alexanderliao/anaconda3/envs/py36/lib/python3.6/site-packages/ipykernel_launcher.py:37: RuntimeWarning: invalid value encountered in arccos\n",
      "/home/alexanderliao/anaconda3/envs/py36/lib/python3.6/site-packages/ipykernel_launcher.py:37: RuntimeWarning: invalid value encountered in arccos\n",
      "/home/alexanderliao/anaconda3/envs/py36/lib/python3.6/site-packages/ipykernel_launcher.py:37: RuntimeWarning: invalid value encountered in arccos\n",
      "/home/alexanderliao/anaconda3/envs/py36/lib/python3.6/site-packages/ipykernel_launcher.py:37: RuntimeWarning: invalid value encountered in arccos\n",
      "/home/alexanderliao/anaconda3/envs/py36/lib/python3.6/site-packages/ipykernel_launcher.py:37: RuntimeWarning: invalid value encountered in arccos\n",
      "/home/alexanderliao/anaconda3/envs/py36/lib/python3.6/site-packages/ipykernel_launcher.py:37: RuntimeWarning: invalid value encountered in arccos\n",
      "/home/alexanderliao/anaconda3/envs/py36/lib/python3.6/site-packages/ipykernel_launcher.py:37: RuntimeWarning: invalid value encountered in arccos\n",
      "/home/alexanderliao/anaconda3/envs/py36/lib/python3.6/site-packages/ipykernel_launcher.py:37: RuntimeWarning: invalid value encountered in arccos\n",
      "/home/alexanderliao/anaconda3/envs/py36/lib/python3.6/site-packages/ipykernel_launcher.py:37: RuntimeWarning: invalid value encountered in arccos\n",
      "/home/alexanderliao/anaconda3/envs/py36/lib/python3.6/site-packages/ipykernel_launcher.py:37: RuntimeWarning: invalid value encountered in arccos\n",
      "/home/alexanderliao/anaconda3/envs/py36/lib/python3.6/site-packages/ipykernel_launcher.py:37: RuntimeWarning: invalid value encountered in arccos\n",
      "/home/alexanderliao/anaconda3/envs/py36/lib/python3.6/site-packages/ipykernel_launcher.py:37: RuntimeWarning: invalid value encountered in arccos\n",
      "/home/alexanderliao/anaconda3/envs/py36/lib/python3.6/site-packages/ipykernel_launcher.py:37: RuntimeWarning: invalid value encountered in arccos\n",
      "/home/alexanderliao/anaconda3/envs/py36/lib/python3.6/site-packages/ipykernel_launcher.py:37: RuntimeWarning: invalid value encountered in arccos\n",
      "/home/alexanderliao/anaconda3/envs/py36/lib/python3.6/site-packages/ipykernel_launcher.py:37: RuntimeWarning: invalid value encountered in arccos\n"
     ]
    },
    {
     "name": "stderr",
     "output_type": "stream",
     "text": [
      "/home/alexanderliao/anaconda3/envs/py36/lib/python3.6/site-packages/ipykernel_launcher.py:37: RuntimeWarning: invalid value encountered in arccos\n",
      "/home/alexanderliao/anaconda3/envs/py36/lib/python3.6/site-packages/ipykernel_launcher.py:37: RuntimeWarning: invalid value encountered in arccos\n",
      "/home/alexanderliao/anaconda3/envs/py36/lib/python3.6/site-packages/ipykernel_launcher.py:37: RuntimeWarning: invalid value encountered in arccos\n",
      "/home/alexanderliao/anaconda3/envs/py36/lib/python3.6/site-packages/ipykernel_launcher.py:37: RuntimeWarning: invalid value encountered in arccos\n",
      "/home/alexanderliao/anaconda3/envs/py36/lib/python3.6/site-packages/ipykernel_launcher.py:37: RuntimeWarning: invalid value encountered in arccos\n",
      "/home/alexanderliao/anaconda3/envs/py36/lib/python3.6/site-packages/ipykernel_launcher.py:37: RuntimeWarning: invalid value encountered in arccos\n",
      "/home/alexanderliao/anaconda3/envs/py36/lib/python3.6/site-packages/ipykernel_launcher.py:37: RuntimeWarning: invalid value encountered in arccos\n",
      "/home/alexanderliao/anaconda3/envs/py36/lib/python3.6/site-packages/ipykernel_launcher.py:37: RuntimeWarning: invalid value encountered in arccos\n",
      "/home/alexanderliao/anaconda3/envs/py36/lib/python3.6/site-packages/ipykernel_launcher.py:37: RuntimeWarning: invalid value encountered in arccos\n",
      "/home/alexanderliao/anaconda3/envs/py36/lib/python3.6/site-packages/ipykernel_launcher.py:37: RuntimeWarning: invalid value encountered in arccos\n",
      "/home/alexanderliao/anaconda3/envs/py36/lib/python3.6/site-packages/ipykernel_launcher.py:37: RuntimeWarning: invalid value encountered in arccos\n",
      "/home/alexanderliao/anaconda3/envs/py36/lib/python3.6/site-packages/ipykernel_launcher.py:37: RuntimeWarning: invalid value encountered in arccos\n",
      "/home/alexanderliao/anaconda3/envs/py36/lib/python3.6/site-packages/ipykernel_launcher.py:37: RuntimeWarning: invalid value encountered in arccos\n",
      "/home/alexanderliao/anaconda3/envs/py36/lib/python3.6/site-packages/ipykernel_launcher.py:37: RuntimeWarning: invalid value encountered in arccos\n",
      "/home/alexanderliao/anaconda3/envs/py36/lib/python3.6/site-packages/ipykernel_launcher.py:37: RuntimeWarning: invalid value encountered in arccos\n",
      "/home/alexanderliao/anaconda3/envs/py36/lib/python3.6/site-packages/ipykernel_launcher.py:37: RuntimeWarning: invalid value encountered in arccos\n",
      "/home/alexanderliao/anaconda3/envs/py36/lib/python3.6/site-packages/ipykernel_launcher.py:37: RuntimeWarning: invalid value encountered in arccos\n",
      "/home/alexanderliao/anaconda3/envs/py36/lib/python3.6/site-packages/ipykernel_launcher.py:37: RuntimeWarning: invalid value encountered in arccos\n",
      "/home/alexanderliao/anaconda3/envs/py36/lib/python3.6/site-packages/ipykernel_launcher.py:37: RuntimeWarning: invalid value encountered in arccos\n",
      "/home/alexanderliao/anaconda3/envs/py36/lib/python3.6/site-packages/ipykernel_launcher.py:37: RuntimeWarning: invalid value encountered in arccos\n",
      "/home/alexanderliao/anaconda3/envs/py36/lib/python3.6/site-packages/ipykernel_launcher.py:37: RuntimeWarning: invalid value encountered in arccos\n",
      "/home/alexanderliao/anaconda3/envs/py36/lib/python3.6/site-packages/ipykernel_launcher.py:37: RuntimeWarning: invalid value encountered in arccos\n",
      "/home/alexanderliao/anaconda3/envs/py36/lib/python3.6/site-packages/ipykernel_launcher.py:37: RuntimeWarning: invalid value encountered in arccos\n",
      "/home/alexanderliao/anaconda3/envs/py36/lib/python3.6/site-packages/ipykernel_launcher.py:37: RuntimeWarning: invalid value encountered in arccos\n",
      "/home/alexanderliao/anaconda3/envs/py36/lib/python3.6/site-packages/ipykernel_launcher.py:37: RuntimeWarning: invalid value encountered in arccos\n",
      "/home/alexanderliao/anaconda3/envs/py36/lib/python3.6/site-packages/ipykernel_launcher.py:37: RuntimeWarning: invalid value encountered in arccos\n",
      "/home/alexanderliao/anaconda3/envs/py36/lib/python3.6/site-packages/ipykernel_launcher.py:37: RuntimeWarning: invalid value encountered in arccos\n",
      "/home/alexanderliao/anaconda3/envs/py36/lib/python3.6/site-packages/ipykernel_launcher.py:37: RuntimeWarning: invalid value encountered in arccos\n",
      "/home/alexanderliao/anaconda3/envs/py36/lib/python3.6/site-packages/ipykernel_launcher.py:37: RuntimeWarning: invalid value encountered in arccos\n",
      "/home/alexanderliao/anaconda3/envs/py36/lib/python3.6/site-packages/ipykernel_launcher.py:37: RuntimeWarning: invalid value encountered in arccos\n",
      "/home/alexanderliao/anaconda3/envs/py36/lib/python3.6/site-packages/ipykernel_launcher.py:37: RuntimeWarning: invalid value encountered in arccos\n",
      "/home/alexanderliao/anaconda3/envs/py36/lib/python3.6/site-packages/ipykernel_launcher.py:37: RuntimeWarning: invalid value encountered in arccos\n",
      "/home/alexanderliao/anaconda3/envs/py36/lib/python3.6/site-packages/ipykernel_launcher.py:37: RuntimeWarning: invalid value encountered in arccos\n",
      "/home/alexanderliao/anaconda3/envs/py36/lib/python3.6/site-packages/ipykernel_launcher.py:37: RuntimeWarning: invalid value encountered in arccos\n",
      "/home/alexanderliao/anaconda3/envs/py36/lib/python3.6/site-packages/ipykernel_launcher.py:37: RuntimeWarning: invalid value encountered in arccos\n",
      "/home/alexanderliao/anaconda3/envs/py36/lib/python3.6/site-packages/ipykernel_launcher.py:37: RuntimeWarning: invalid value encountered in arccos\n",
      "/home/alexanderliao/anaconda3/envs/py36/lib/python3.6/site-packages/ipykernel_launcher.py:37: RuntimeWarning: invalid value encountered in arccos\n",
      "/home/alexanderliao/anaconda3/envs/py36/lib/python3.6/site-packages/ipykernel_launcher.py:37: RuntimeWarning: invalid value encountered in arccos\n",
      "/home/alexanderliao/anaconda3/envs/py36/lib/python3.6/site-packages/ipykernel_launcher.py:37: RuntimeWarning: invalid value encountered in arccos\n",
      "/home/alexanderliao/anaconda3/envs/py36/lib/python3.6/site-packages/ipykernel_launcher.py:37: RuntimeWarning: invalid value encountered in arccos\n",
      "/home/alexanderliao/anaconda3/envs/py36/lib/python3.6/site-packages/ipykernel_launcher.py:37: RuntimeWarning: invalid value encountered in arccos\n",
      "/home/alexanderliao/anaconda3/envs/py36/lib/python3.6/site-packages/ipykernel_launcher.py:37: RuntimeWarning: invalid value encountered in arccos\n",
      "/home/alexanderliao/anaconda3/envs/py36/lib/python3.6/site-packages/ipykernel_launcher.py:37: RuntimeWarning: invalid value encountered in arccos\n",
      "/home/alexanderliao/anaconda3/envs/py36/lib/python3.6/site-packages/ipykernel_launcher.py:37: RuntimeWarning: invalid value encountered in arccos\n",
      "/home/alexanderliao/anaconda3/envs/py36/lib/python3.6/site-packages/ipykernel_launcher.py:37: RuntimeWarning: invalid value encountered in arccos\n",
      "/home/alexanderliao/anaconda3/envs/py36/lib/python3.6/site-packages/ipykernel_launcher.py:37: RuntimeWarning: invalid value encountered in arccos\n",
      "/home/alexanderliao/anaconda3/envs/py36/lib/python3.6/site-packages/ipykernel_launcher.py:37: RuntimeWarning: invalid value encountered in arccos\n",
      "/home/alexanderliao/anaconda3/envs/py36/lib/python3.6/site-packages/ipykernel_launcher.py:37: RuntimeWarning: invalid value encountered in arccos\n",
      "/home/alexanderliao/anaconda3/envs/py36/lib/python3.6/site-packages/ipykernel_launcher.py:37: RuntimeWarning: invalid value encountered in arccos\n",
      "/home/alexanderliao/anaconda3/envs/py36/lib/python3.6/site-packages/ipykernel_launcher.py:37: RuntimeWarning: invalid value encountered in arccos\n",
      "/home/alexanderliao/anaconda3/envs/py36/lib/python3.6/site-packages/ipykernel_launcher.py:37: RuntimeWarning: invalid value encountered in arccos\n",
      "/home/alexanderliao/anaconda3/envs/py36/lib/python3.6/site-packages/ipykernel_launcher.py:37: RuntimeWarning: invalid value encountered in arccos\n",
      "/home/alexanderliao/anaconda3/envs/py36/lib/python3.6/site-packages/ipykernel_launcher.py:37: RuntimeWarning: invalid value encountered in arccos\n",
      "/home/alexanderliao/anaconda3/envs/py36/lib/python3.6/site-packages/ipykernel_launcher.py:37: RuntimeWarning: invalid value encountered in arccos\n",
      "/home/alexanderliao/anaconda3/envs/py36/lib/python3.6/site-packages/ipykernel_launcher.py:37: RuntimeWarning: invalid value encountered in arccos\n",
      "/home/alexanderliao/anaconda3/envs/py36/lib/python3.6/site-packages/ipykernel_launcher.py:37: RuntimeWarning: invalid value encountered in arccos\n",
      "/home/alexanderliao/anaconda3/envs/py36/lib/python3.6/site-packages/ipykernel_launcher.py:37: RuntimeWarning: invalid value encountered in arccos\n"
     ]
    },
    {
     "name": "stderr",
     "output_type": "stream",
     "text": [
      "/home/alexanderliao/anaconda3/envs/py36/lib/python3.6/site-packages/ipykernel_launcher.py:37: RuntimeWarning: invalid value encountered in arccos\n",
      "/home/alexanderliao/anaconda3/envs/py36/lib/python3.6/site-packages/ipykernel_launcher.py:37: RuntimeWarning: invalid value encountered in arccos\n",
      "/home/alexanderliao/anaconda3/envs/py36/lib/python3.6/site-packages/ipykernel_launcher.py:37: RuntimeWarning: invalid value encountered in arccos\n",
      "/home/alexanderliao/anaconda3/envs/py36/lib/python3.6/site-packages/ipykernel_launcher.py:37: RuntimeWarning: invalid value encountered in arccos\n",
      "/home/alexanderliao/anaconda3/envs/py36/lib/python3.6/site-packages/ipykernel_launcher.py:37: RuntimeWarning: invalid value encountered in arccos\n",
      "/home/alexanderliao/anaconda3/envs/py36/lib/python3.6/site-packages/ipykernel_launcher.py:37: RuntimeWarning: invalid value encountered in arccos\n",
      "/home/alexanderliao/anaconda3/envs/py36/lib/python3.6/site-packages/ipykernel_launcher.py:37: RuntimeWarning: invalid value encountered in arccos\n",
      "/home/alexanderliao/anaconda3/envs/py36/lib/python3.6/site-packages/ipykernel_launcher.py:37: RuntimeWarning: invalid value encountered in arccos\n",
      "/home/alexanderliao/anaconda3/envs/py36/lib/python3.6/site-packages/ipykernel_launcher.py:37: RuntimeWarning: invalid value encountered in arccos\n",
      "/home/alexanderliao/anaconda3/envs/py36/lib/python3.6/site-packages/ipykernel_launcher.py:37: RuntimeWarning: invalid value encountered in arccos\n",
      "/home/alexanderliao/anaconda3/envs/py36/lib/python3.6/site-packages/ipykernel_launcher.py:37: RuntimeWarning: invalid value encountered in arccos\n",
      "/home/alexanderliao/anaconda3/envs/py36/lib/python3.6/site-packages/ipykernel_launcher.py:37: RuntimeWarning: invalid value encountered in arccos\n",
      "/home/alexanderliao/anaconda3/envs/py36/lib/python3.6/site-packages/ipykernel_launcher.py:37: RuntimeWarning: invalid value encountered in arccos\n",
      "/home/alexanderliao/anaconda3/envs/py36/lib/python3.6/site-packages/ipykernel_launcher.py:37: RuntimeWarning: invalid value encountered in arccos\n",
      "/home/alexanderliao/anaconda3/envs/py36/lib/python3.6/site-packages/ipykernel_launcher.py:37: RuntimeWarning: invalid value encountered in arccos\n",
      "/home/alexanderliao/anaconda3/envs/py36/lib/python3.6/site-packages/ipykernel_launcher.py:37: RuntimeWarning: invalid value encountered in arccos\n",
      "/home/alexanderliao/anaconda3/envs/py36/lib/python3.6/site-packages/ipykernel_launcher.py:37: RuntimeWarning: invalid value encountered in arccos\n",
      "/home/alexanderliao/anaconda3/envs/py36/lib/python3.6/site-packages/ipykernel_launcher.py:37: RuntimeWarning: invalid value encountered in arccos\n",
      "/home/alexanderliao/anaconda3/envs/py36/lib/python3.6/site-packages/ipykernel_launcher.py:37: RuntimeWarning: invalid value encountered in arccos\n",
      "/home/alexanderliao/anaconda3/envs/py36/lib/python3.6/site-packages/ipykernel_launcher.py:37: RuntimeWarning: invalid value encountered in arccos\n",
      "/home/alexanderliao/anaconda3/envs/py36/lib/python3.6/site-packages/ipykernel_launcher.py:37: RuntimeWarning: invalid value encountered in arccos\n",
      "/home/alexanderliao/anaconda3/envs/py36/lib/python3.6/site-packages/ipykernel_launcher.py:37: RuntimeWarning: invalid value encountered in arccos\n",
      "/home/alexanderliao/anaconda3/envs/py36/lib/python3.6/site-packages/ipykernel_launcher.py:37: RuntimeWarning: invalid value encountered in arccos\n",
      "/home/alexanderliao/anaconda3/envs/py36/lib/python3.6/site-packages/ipykernel_launcher.py:37: RuntimeWarning: invalid value encountered in arccos\n",
      "/home/alexanderliao/anaconda3/envs/py36/lib/python3.6/site-packages/ipykernel_launcher.py:37: RuntimeWarning: invalid value encountered in arccos\n",
      "/home/alexanderliao/anaconda3/envs/py36/lib/python3.6/site-packages/ipykernel_launcher.py:37: RuntimeWarning: invalid value encountered in arccos\n",
      "/home/alexanderliao/anaconda3/envs/py36/lib/python3.6/site-packages/ipykernel_launcher.py:37: RuntimeWarning: invalid value encountered in arccos\n",
      "/home/alexanderliao/anaconda3/envs/py36/lib/python3.6/site-packages/ipykernel_launcher.py:37: RuntimeWarning: invalid value encountered in arccos\n",
      "/home/alexanderliao/anaconda3/envs/py36/lib/python3.6/site-packages/ipykernel_launcher.py:37: RuntimeWarning: invalid value encountered in arccos\n",
      "/home/alexanderliao/anaconda3/envs/py36/lib/python3.6/site-packages/ipykernel_launcher.py:37: RuntimeWarning: invalid value encountered in arccos\n",
      "/home/alexanderliao/anaconda3/envs/py36/lib/python3.6/site-packages/ipykernel_launcher.py:37: RuntimeWarning: invalid value encountered in arccos\n",
      "/home/alexanderliao/anaconda3/envs/py36/lib/python3.6/site-packages/ipykernel_launcher.py:37: RuntimeWarning: invalid value encountered in arccos\n",
      "/home/alexanderliao/anaconda3/envs/py36/lib/python3.6/site-packages/ipykernel_launcher.py:37: RuntimeWarning: invalid value encountered in arccos\n",
      "/home/alexanderliao/anaconda3/envs/py36/lib/python3.6/site-packages/ipykernel_launcher.py:37: RuntimeWarning: invalid value encountered in arccos\n",
      "/home/alexanderliao/anaconda3/envs/py36/lib/python3.6/site-packages/ipykernel_launcher.py:37: RuntimeWarning: invalid value encountered in arccos\n",
      "/home/alexanderliao/anaconda3/envs/py36/lib/python3.6/site-packages/ipykernel_launcher.py:37: RuntimeWarning: invalid value encountered in arccos\n",
      "/home/alexanderliao/anaconda3/envs/py36/lib/python3.6/site-packages/ipykernel_launcher.py:37: RuntimeWarning: invalid value encountered in arccos\n",
      "/home/alexanderliao/anaconda3/envs/py36/lib/python3.6/site-packages/ipykernel_launcher.py:37: RuntimeWarning: invalid value encountered in arccos\n"
     ]
    },
    {
     "name": "stdout",
     "output_type": "stream",
     "text": [
      "        event_id  hit_id  track_id\n",
      "0              0       1  14308785\n",
      "1              0       2         1\n",
      "2              0       3    119017\n",
      "3              0       4  51296152\n",
      "4              0       5  13376088\n",
      "5              0       6    119020\n",
      "6              0       7         6\n",
      "7              0       8  13545279\n",
      "8              0       9  41328083\n",
      "9              0      10   7725878\n",
      "10             0      11  37390529\n",
      "11             0      12  37300867\n",
      "12             0      13   2569829\n",
      "13             0      14        13\n",
      "14             0      15  33487343\n",
      "15             0      16   5716707\n",
      "16             0      17  37300867\n",
      "17             0      18  13630097\n",
      "18             0      19  11261328\n",
      "19             0      20  11430320\n",
      "20             0      21   6887895\n",
      "21             0      22   6385774\n",
      "22             0      23  31033689\n",
      "23             0      24  40252743\n",
      "24             0      25  15920190\n",
      "25             0      26    119040\n",
      "26             0      27  28760949\n",
      "27             0      28  13291612\n",
      "28             0      29   9238004\n",
      "29             0      30  13206803\n",
      "...          ...     ...       ...\n",
      "118986         0  118987  25436229\n",
      "118987         0  118988  33841200\n",
      "118988         0  118989  39088016\n",
      "118989         0  118990  36927501\n",
      "118990         0  118991  32084481\n",
      "118991         0  118992  24744416\n",
      "118992         0  118993  42048032\n",
      "118993         0  118994  32084481\n",
      "118994         0  118995  42048032\n",
      "118995         0  118996  34001496\n",
      "118996         0  118997  32084481\n",
      "118997         0  118998  33841200\n",
      "118998         0  118999  38461997\n",
      "118999         0  119000  35698764\n",
      "119000         0  119001  48100120\n",
      "119001         0  119002  42937998\n",
      "119002         0  119003  42500752\n",
      "119003         0  119004  42954830\n",
      "119004         0  119005  36393046\n",
      "119005         0  119006  17465367\n",
      "119006         0  119007  51145506\n",
      "119007         0  119008  33205399\n",
      "119008         0  119009  30770568\n",
      "119009         0  119010   2463154\n",
      "119010         0  119011  35698764\n",
      "119011         0  119012  32698333\n",
      "119012         0  119013  41597326\n",
      "119013         0  119014   5480975\n",
      "119014         0  119015  28237236\n",
      "119015         0  119016  17947256\n",
      "\n",
      "[119016 rows x 3 columns]\n"
     ]
    },
    {
     "name": "stderr",
     "output_type": "stream",
     "text": [
      "\r",
      "  1%|          | 1/125 [13:30<27:54:19, 810.16s/it]"
     ]
    }
   ],
   "source": [
    "# Clustering by varying \n",
    "#model = Clusterer()\n",
    "#model.initialize(hits) \n",
    "\n",
    "# Preparing Submission\n",
    "if True:\n",
    "    for i in tqdm(range(125)):\n",
    "        path_to_train = \"/home/alexanderliao/data/Kaggle/competitions/trackml-particle-identification/test\"\n",
    "        event_prefix = \"event\"+str(i).zfill(9)\n",
    "        hits = load_event_hits(os.path.join(path_to_train, event_prefix))\n",
    "        c=[1.5,1.5,0.73,0.17,0.027,0.027] #[phi_coef,phi_coef,zdivrt_coef,zdivr_coef,xdivr_coef,ydivr_coef]\n",
    "        min_samples_in_cluster = 1\n",
    "\n",
    "        model = Clusterer()\n",
    "        model.initialize(hits) \n",
    "        hits_with_dz = preprocess_hits(hits, 0)\n",
    "        model.Hough_clustering(hits_with_dz,coef=c,epsilon=0.0048,min_samples=min_samples_in_cluster,\n",
    "                               n_loop=300,verbose=False)\n",
    "\n",
    "        if i == 0:\n",
    "            submission = create_one_event_submission(i, hits, model.cluster)\n",
    "        else:\n",
    "            submission = pd.concat([submission,create_one_event_submission(i, hits, model.cluster)])\n",
    "        print(submission)\n",
    "        if i%15==0: # O(n^2) if turned on\n",
    "            submission.to_csv('submission-temp.csv')\n",
    "    print('\\n') \n",
    "    submission.to_csv('submission.csv')"
   ]
  },
  {
   "cell_type": "code",
   "execution_count": null,
   "metadata": {},
   "outputs": [],
   "source": [
    "submission\n",
    "df = submission.track_id.unique()"
   ]
  },
  {
   "cell_type": "code",
   "execution_count": null,
   "metadata": {},
   "outputs": [],
   "source": [
    "6967634/len(df)"
   ]
  },
  {
   "cell_type": "code",
   "execution_count": null,
   "metadata": {},
   "outputs": [],
   "source": [
    "for i in range(63,124):\n",
    "    print(i)"
   ]
  },
  {
   "cell_type": "markdown",
   "metadata": {
    "_uuid": "2df8584057590d42adef24a1286a92599f886df3"
   },
   "source": [
    "Now, let us see some analysis on the clustering result:"
   ]
  },
  {
   "cell_type": "code",
   "execution_count": null,
   "metadata": {
    "_uuid": "d496bcbe21a377925f64c69de5a6c811c80d58a7"
   },
   "outputs": [],
   "source": [
    "pr = precision(truth,submission,min_hits=10)"
   ]
  },
  {
   "cell_type": "code",
   "execution_count": null,
   "metadata": {
    "_uuid": "fc582df7cf36f13b9ee0331572db305521e6336e"
   },
   "outputs": [],
   "source": [
    "pr = precision(truth,submission,min_hits=7)"
   ]
  },
  {
   "cell_type": "code",
   "execution_count": null,
   "metadata": {
    "_uuid": "8d22eb6747f01fa2af6bd2086cde122825e323a3"
   },
   "outputs": [],
   "source": [
    "pr = precision(truth,submission,min_hits=4)"
   ]
  },
  {
   "cell_type": "code",
   "execution_count": null,
   "metadata": {
    "_uuid": "71aeb104416c23c2e57c45f7569939ff975780de"
   },
   "outputs": [],
   "source": [
    "pr = precision(truth,submission,min_hits=1)"
   ]
  },
  {
   "cell_type": "markdown",
   "metadata": {
    "_uuid": "184b5b3541d8f8a82bdce122b3dc9b041af0d984"
   },
   "source": [
    "As one can see, long tracks have high precision, low lost weights. On the other hand, there are too many ghost short tracks. Then, we can use multi-stage clustering, using min_hits in DBSCAN for each stage (i.e., cluster long tracks first, then cluster short tracks with different parameters without touching the long tracks...)."
   ]
  },
  {
   "cell_type": "markdown",
   "metadata": {
    "_uuid": "efd3174b9193b3180af1648d45d43db042e1fc55"
   },
   "source": [
    "Some other notes:\n",
    "\n",
    "+ Use too many loops can decrease the performance, as one can see from the log result above.\n",
    "\n",
    "+ No z-shifting is performed  (dz = 0), although the function preprocess already offer it. Some may want to use z-shifting right away just by change dz from 0 to any number between [-5.5, 5.5]\n",
    "\n",
    "+ Features are not optimized. Honestly, I am also stuck at searching for good features (and good weights). It would be very nice if someone secretly tell me those magic features :-).\n",
    "\n",
    "+ When $r/(2r_0) > 1$ or $< 1$, arccos is undefined, hence a warning appears (if running on local notebook). The problem, more importantly, is not about the warning. It is a technical issue: all hits with $r/(2r_0) > 1$ or $< 1$ MUST BE EXCLUDED from DBSCAN, because there will be NO track with that parameter pass through those hits. This can be done by some indexing techniques that I do not provide here. (DBSCAN uses a raw matrix to cluster, then we must be careful when exclude hits from the original full hit dataframe).\n",
    "\n",
    "KV."
   ]
  },
  {
   "cell_type": "code",
   "execution_count": null,
   "metadata": {
    "_uuid": "b8a951a9c4989186d8716a25e087fde36bcc30e2"
   },
   "outputs": [],
   "source": []
  }
 ],
 "metadata": {
  "anaconda-cloud": {},
  "kernelspec": {
   "display_name": "Python 3",
   "language": "python",
   "name": "python3"
  },
  "language_info": {
   "codemirror_mode": {
    "name": "ipython",
    "version": 3
   },
   "file_extension": ".py",
   "mimetype": "text/x-python",
   "name": "python",
   "nbconvert_exporter": "python",
   "pygments_lexer": "ipython3",
   "version": "3.6.5"
  }
 },
 "nbformat": 4,
 "nbformat_minor": 1
}
