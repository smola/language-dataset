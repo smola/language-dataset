{
 "cells": [
  {
   "cell_type": "markdown",
   "metadata": {},
   "source": [
    "# Snake"
   ]
  },
  {
   "cell_type": "markdown",
   "metadata": {},
   "source": [
    "## Libraries"
   ]
  },
  {
   "cell_type": "code",
   "execution_count": 1,
   "metadata": {},
   "outputs": [
    {
     "name": "stdout",
     "output_type": "stream",
     "text": [
      "pygame 1.9.6\n",
      "Hello from the pygame community. https://www.pygame.org/contribute.html\n"
     ]
    }
   ],
   "source": [
    "import pygame\n",
    "import random"
   ]
  },
  {
   "cell_type": "markdown",
   "metadata": {},
   "source": [
    "## Colors & Parameters"
   ]
  },
  {
   "cell_type": "code",
   "execution_count": 2,
   "metadata": {},
   "outputs": [],
   "source": [
    "## Colors\n",
    "YELLOW  = (255, 255, 0)\n",
    "GREEN   = (34,139,34)\n",
    "WHITE   = (255,255,255)\n",
    "GRAY    = (128,128,128)\n",
    "RED     = (255, 100, 50)\n",
    "OLIVE   = (128, 128, 0)\n",
    "LIME    = (0, 255, 0)\n",
    "AQUA    = (0, 255, 255)\n",
    "TEAL    = (0, 128, 128)\n",
    "FUCHSIA = (255, 0, 255)\n",
    "PURPLE  = (128, 0, 128)\n",
    "BLACK   = (0, 0, 0)\n",
    "Food_colors = [WHITE, RED, RED]\n",
    "\n",
    "## Dimesnions\n",
    "w  = 800 # the width of the grid\n",
    "h  = 500 # the height of the grid\n",
    "rw = 20  # the width of cells of the grid\n",
    "rh = 20  # the height of cells of the grid"
   ]
  },
  {
   "cell_type": "markdown",
   "metadata": {},
   "source": [
    "## Food"
   ]
  },
  {
   "cell_type": "code",
   "execution_count": 3,
   "metadata": {},
   "outputs": [],
   "source": [
    "class Food(object):\n",
    "    \n",
    "    def __init__(self, color:tuple=RED):\n",
    "        self.x = rw * random.randint(0, w//rw - 1)\n",
    "        self.y = rh * random.randint(0, h//rh - 1)\n",
    "        self.color = color\n",
    "        self.colors = Food_colors\n",
    "        \n",
    "    def update(self):\n",
    "        \"\"\"update the position of the Food\"\"\"\n",
    "        self.x = rw * random.randint(0, w//rw - 1)\n",
    "        self.y = rh * random.randint(0, h//rh - 1)        \n",
    "    \n",
    "    def draw(self, screen):\n",
    "        \"\"\"draw the food on the screen\"\"\"\n",
    "        self.color = random.choice(self.colors)\n",
    "        pygame.draw.rect(screen, self.color, (self.x, self.y, rw, rh))"
   ]
  },
  {
   "cell_type": "markdown",
   "metadata": {},
   "source": [
    "## Snake"
   ]
  },
  {
   "cell_type": "code",
   "execution_count": 84,
   "metadata": {},
   "outputs": [],
   "source": [
    "class Snake:\n",
    "    def __init__(self, x:int=0, y:int=0, body_color=AQUA, head_color=YELLOW):\n",
    "        self.x = x\n",
    "        self.y = y\n",
    "        self.vx = 0\n",
    "        self.vy = 0\n",
    "        self.lenght = 1\n",
    "        self.body = [[x, y]]\n",
    "        self.body_color = body_color\n",
    "        self.head_color = head_color\n",
    "        self.food_pos = 0\n",
    "        \n",
    "    def update(self):\n",
    "        \"\"\"update the postion of the snake\"\"\"\n",
    "        self.x += self.vx\n",
    "        self.y += self.vy\n",
    "        self.body.append([self.x, self.y])\n",
    "        if len(self.body) > self.lenght:\n",
    "            self.body = self.body[1:]\n",
    "        self.food_pos += 1\n",
    "\n",
    "    def move(self, event:pygame.event):\n",
    "        \"\"\"move the snake using keys\"\"\"\n",
    "        if event.key == pygame.K_LEFT:\n",
    "            self.vx = -rw\n",
    "            self.vy = 0\n",
    "        elif event.key == pygame.K_RIGHT:\n",
    "            self.vx = rw\n",
    "            self.vy = 0\n",
    "        elif event.key == pygame.K_UP:\n",
    "            self.vx = 0\n",
    "            self.vy = -rh\n",
    "        elif event.key == pygame.K_DOWN:\n",
    "            self.vx = 0\n",
    "            self.vy = rh\n",
    "            \n",
    "    def check_contact(self) -> bool:\n",
    "        body_contact = any([self.body[-1] == cube for cube in self.body[:-1]])\n",
    "        edge_contact = any([self.x < 0, self.x + rw > w, self.y < 0, self.y + rh > h])\n",
    "        return body_contact or edge_contact\n",
    "    \n",
    "    def eat_food(self, food:Food) -> bool:\n",
    "        x_contact = food.x < self.body[-1][0] + 1 < food.x + rw\n",
    "        y_contact = food.y < self.body[-1][1] + 1 < food.y + rh\n",
    "        return x_contact and y_contact\n",
    "\n",
    "    def draw(self, screen):\n",
    "        \"\"\"draw the snake on the screen\"\"\"\n",
    "        head = self.body[-1]\n",
    "        pygame.draw.rect(screen, self.head_color, ((head[0] + 1, head[-1] + 1, rw - 1, rh - 1)))\n",
    "        for cube in self.body[:-1]:\n",
    "            pygame.draw.rect(screen, self.body_color, (cube[0] + 1, cube[-1] + 1, rw - 1, rh - 1)) \n",
    "        if self.food_pos < self.lenght:\n",
    "            food = self.body[-self.food_pos]\n",
    "            pygame.draw.rect(screen, self.food_color, ((food[0] - 1, food[-1] - 1, rw + 2, rh + 2)))"
   ]
  },
  {
   "cell_type": "markdown",
   "metadata": {},
   "source": [
    "## Main function"
   ]
  },
  {
   "cell_type": "code",
   "execution_count": 93,
   "metadata": {},
   "outputs": [],
   "source": [
    "def main():\n",
    "    pygame.init()\n",
    "    screen=pygame.display.set_mode((w, h))\n",
    "    clock = pygame.time.Clock()\n",
    "    font1 = pygame.font.SysFont('Arial', 18)\n",
    "    font2 = pygame.font.SysFont('Decorative', 60)\n",
    "    \n",
    "    ## image & sons\n",
    "    land = pygame.image.load(r'terrain.jpg')\n",
    "    land = pygame.transform.scale(land, (w, h))\n",
    "    #contact = pygame.mixer.Sound('accident1.wav')\n",
    "    #eat = pygame.mixer.Sound('eat.wav')\n",
    "    \n",
    "    ## create new snake & food\n",
    "    snake = Snake()\n",
    "    food = Food()\n",
    "    \n",
    "    game_over = False\n",
    "    while not game_over:\n",
    "        for event in pygame.event.get():\n",
    "            if event.type==pygame.QUIT:\n",
    "                pygame.quit()\n",
    "            elif event.type == pygame.KEYDOWN:\n",
    "                snake.move(event)\n",
    "\n",
    "        ## update the screen\n",
    "        screen.blit(land, (0, 0))\n",
    "        snake.update()\n",
    "        snake.draw(screen)\n",
    "        food.draw(screen)\n",
    "        \n",
    "        ## check contact between snake and egdes \n",
    "        if snake.check_contact():\n",
    "            #contact.play()\n",
    "            text1 = font2.render('Game Over', True, WHITE)   \n",
    "            text2 = font2.render(f'Your score is : {snake.lenght - 1}', True, WHITE)   \n",
    "            screen.blit(text1,(w//3, h//3))\n",
    "            screen.blit(text2,(w//4, h//2))\n",
    "            pygame.display.update()\n",
    "            pygame.time.wait(2000)\n",
    "            snake = Snake()\n",
    "            food = Food()\n",
    "        \n",
    "        ## check contact between snake and food\n",
    "        if snake.eat_food(food):\n",
    "            #eat.play()\n",
    "            snake.food_color = food.color\n",
    "            snake.food_pos = 0\n",
    "            snake.lenght += 1\n",
    "            food.update()        \n",
    "        \n",
    "        ## update score text\n",
    "        text = font1.render(f'score : {snake.lenght - 1}', True, WHITE)   \n",
    "        screen.blit(text,(w - 5*rw, rh))\n",
    "        \n",
    "        pygame.display.update()\n",
    "        clock.tick(10)\n",
    "        "
   ]
  },
  {
   "cell_type": "code",
   "execution_count": 94,
   "metadata": {},
   "outputs": [
    {
     "ename": "error",
     "evalue": "display Surface quit",
     "output_type": "error",
     "traceback": [
      "\u001b[0;31m---------------------------------------------------------------------------\u001b[0m",
      "\u001b[0;31merror\u001b[0m                                     Traceback (most recent call last)",
      "\u001b[0;32m<ipython-input-94-c7bc734e5e35>\u001b[0m in \u001b[0;36m<module>\u001b[0;34m\u001b[0m\n\u001b[1;32m      1\u001b[0m \u001b[0;32mif\u001b[0m \u001b[0m__name__\u001b[0m \u001b[0;34m==\u001b[0m \u001b[0;34m'__main__'\u001b[0m\u001b[0;34m:\u001b[0m\u001b[0;34m\u001b[0m\u001b[0;34m\u001b[0m\u001b[0m\n\u001b[0;32m----> 2\u001b[0;31m     \u001b[0mmain\u001b[0m\u001b[0;34m(\u001b[0m\u001b[0;34m)\u001b[0m\u001b[0;34m\u001b[0m\u001b[0;34m\u001b[0m\u001b[0m\n\u001b[0m",
      "\u001b[0;32m<ipython-input-93-e9f615f0e014>\u001b[0m in \u001b[0;36mmain\u001b[0;34m()\u001b[0m\n\u001b[1;32m     25\u001b[0m \u001b[0;34m\u001b[0m\u001b[0m\n\u001b[1;32m     26\u001b[0m         \u001b[0;31m## update the screen\u001b[0m\u001b[0;34m\u001b[0m\u001b[0;34m\u001b[0m\u001b[0;34m\u001b[0m\u001b[0m\n\u001b[0;32m---> 27\u001b[0;31m         \u001b[0mscreen\u001b[0m\u001b[0;34m.\u001b[0m\u001b[0mblit\u001b[0m\u001b[0;34m(\u001b[0m\u001b[0mland\u001b[0m\u001b[0;34m,\u001b[0m \u001b[0;34m(\u001b[0m\u001b[0;36m0\u001b[0m\u001b[0;34m,\u001b[0m \u001b[0;36m0\u001b[0m\u001b[0;34m)\u001b[0m\u001b[0;34m)\u001b[0m\u001b[0;34m\u001b[0m\u001b[0;34m\u001b[0m\u001b[0m\n\u001b[0m\u001b[1;32m     28\u001b[0m         \u001b[0msnake\u001b[0m\u001b[0;34m.\u001b[0m\u001b[0mupdate\u001b[0m\u001b[0;34m(\u001b[0m\u001b[0;34m)\u001b[0m\u001b[0;34m\u001b[0m\u001b[0;34m\u001b[0m\u001b[0m\n\u001b[1;32m     29\u001b[0m         \u001b[0msnake\u001b[0m\u001b[0;34m.\u001b[0m\u001b[0mdraw\u001b[0m\u001b[0;34m(\u001b[0m\u001b[0mscreen\u001b[0m\u001b[0;34m)\u001b[0m\u001b[0;34m\u001b[0m\u001b[0;34m\u001b[0m\u001b[0m\n",
      "\u001b[0;31merror\u001b[0m: display Surface quit"
     ]
    }
   ],
   "source": [
    "if __name__ == '__main__':\n",
    "    main()"
   ]
  }
 ],
 "metadata": {
  "kernelspec": {
   "display_name": "Python 3",
   "language": "python",
   "name": "python3"
  },
  "language_info": {
   "codemirror_mode": {
    "name": "ipython",
    "version": 3
   },
   "file_extension": ".py",
   "mimetype": "text/x-python",
   "name": "python",
   "nbconvert_exporter": "python",
   "pygments_lexer": "ipython3",
   "version": "3.7.8"
  }
 },
 "nbformat": 4,
 "nbformat_minor": 4
}
