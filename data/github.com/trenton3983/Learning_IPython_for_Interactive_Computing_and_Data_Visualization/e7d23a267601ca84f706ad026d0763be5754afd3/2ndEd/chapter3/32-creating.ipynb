{
  "cells": [
    {
      "cell_type": "markdown",
      "metadata": {},
      "source": "## Creating and loading arrays"
    },
    {
      "cell_type": "markdown",
      "metadata": {},
      "source": "### Creating arrays"
    },
    {
      "cell_type": "code",
      "execution_count": 1,
      "metadata": {},
      "outputs": [
        {
          "data": {
            "text/plain": "ones [ 1.  1.  1.  1.  1.]\narange [0 1 2 3 4]\nlinspace [ 0.    0.25  0.5   0.75  1.  ]\nrandom [ 0.68361911  0.33585308  0.70733934]\ncustom [2 3 5]"
          },
          "execution_count": 1,
          "metadata": {},
          "output_type": "execute_result"
        }
      ],
      "source": "import numpy as np\nprint(\"ones\", np.ones(5))\nprint(\"arange\", np.arange(5))\nprint(\"linspace\", np.linspace(0., 1., 5))\nprint(\"random\", np.random.uniform(size=3))\nprint(\"custom\", np.array([2, 3, 5]))"
    },
    {
      "cell_type": "code",
      "execution_count": 2,
      "metadata": {},
      "outputs": [
        {
          "data": {
            "text/plain": "array([[1, 2],\n       [3, 4]])"
          },
          "execution_count": 2,
          "metadata": {},
          "output_type": "execute_result"
        }
      ],
      "source": "np.array([[1, 2], [3, 4]])"
    },
    {
      "cell_type": "code",
      "execution_count": 3,
      "metadata": {},
      "outputs": [
        {
          "data": {
            "text/plain": "array([1, 1, 1, 1, 1])"
          },
          "execution_count": 3,
          "metadata": {},
          "output_type": "execute_result"
        }
      ],
      "source": "np.ones(5, dtype=np.int64)"
    },
    {
      "cell_type": "code",
      "execution_count": 4,
      "metadata": {},
      "outputs": [
        {
          "data": {
            "text/plain": "array([ 0.,  1.,  2.,  3.,  4.])"
          },
          "execution_count": 4,
          "metadata": {},
          "output_type": "execute_result"
        }
      ],
      "source": "np.arange(5).astype(np.float64)"
    },
    {
      "cell_type": "markdown",
      "metadata": {},
      "source": "### Loading arrays from files"
    },
    {
      "cell_type": "code",
      "execution_count": 5,
      "metadata": {},
      "outputs": [],
      "source": "import pandas as pd"
    },
    {
      "cell_type": "code",
      "execution_count": 6,
      "metadata": {},
      "outputs": [],
      "source": "data = pd.read_csv('../chapter2/data/nyc_data.csv')"
    },
    {
      "cell_type": "code",
      "execution_count": 7,
      "metadata": {},
      "outputs": [
        {
          "data": {
            "text/plain": "array([[-73.955925,  40.781887],\n       [-74.005501,  40.745735],\n       ...,\n       [-73.978477,  40.772945],\n       [-73.987206,  40.750568]])"
          },
          "execution_count": 7,
          "metadata": {},
          "output_type": "execute_result"
        }
      ],
      "source": "pickup = data[['pickup_longitude', 'pickup_latitude']].values\npickup"
    },
    {
      "cell_type": "code",
      "execution_count": 8,
      "metadata": {},
      "outputs": [
        {
          "data": {
            "text/plain": "(846945, 2)"
          },
          "execution_count": 8,
          "metadata": {},
          "output_type": "execute_result"
        }
      ],
      "source": "pickup.shape"
    }
  ],
  "metadata": {},
  "nbformat": 4,
  "nbformat_minor": 0
}