{
 "cells": [
  {
   "cell_type": "markdown",
   "metadata": {},
   "source": [
    "Import functions from installed python packages:"
   ]
  },
  {
   "cell_type": "code",
   "execution_count": 9,
   "metadata": {},
   "outputs": [
    {
     "data": {
      "application/javascript": [
       "\n",
       "            setTimeout(function() {\n",
       "                var nbb_cell_id = 9;\n",
       "                var nbb_unformatted_code = \"import os\\nfrom datetime import date\\nimport seaborn as sns\\nimport sys\\nfrom pathlib import Path\\n\\n#etc.\";\n",
       "                var nbb_formatted_code = \"import os\\nfrom datetime import date\\nimport seaborn as sns\\nimport sys\\nfrom pathlib import Path\\n\\n# etc.\";\n",
       "                var nbb_cells = Jupyter.notebook.get_cells();\n",
       "                for (var i = 0; i < nbb_cells.length; ++i) {\n",
       "                    if (nbb_cells[i].input_prompt_number == nbb_cell_id) {\n",
       "                        if (nbb_cells[i].get_text() == nbb_unformatted_code) {\n",
       "                             nbb_cells[i].set_text(nbb_formatted_code);\n",
       "                        }\n",
       "                        break;\n",
       "                    }\n",
       "                }\n",
       "            }, 500);\n",
       "            "
      ],
      "text/plain": [
       "<IPython.core.display.Javascript object>"
      ]
     },
     "metadata": {},
     "output_type": "display_data"
    },
    {
     "data": {
      "application/javascript": [
       "\n",
       "            setTimeout(function() {\n",
       "                var nbb_cell_id = 9;\n",
       "                var nbb_unformatted_code = \"import os\\nfrom datetime import date\\nimport seaborn as sns\\nimport sys\\nfrom pathlib import Path\\n\\n#etc.\";\n",
       "                var nbb_formatted_code = \"import os\\nfrom datetime import date\\nimport seaborn as sns\\nimport sys\\nfrom pathlib import Path\\n\\n# etc.\";\n",
       "                var nbb_cells = Jupyter.notebook.get_cells();\n",
       "                for (var i = 0; i < nbb_cells.length; ++i) {\n",
       "                    if (nbb_cells[i].input_prompt_number == nbb_cell_id) {\n",
       "                        if (nbb_cells[i].get_text() == nbb_unformatted_code) {\n",
       "                             nbb_cells[i].set_text(nbb_formatted_code);\n",
       "                        }\n",
       "                        break;\n",
       "                    }\n",
       "                }\n",
       "            }, 500);\n",
       "            "
      ],
      "text/plain": [
       "<IPython.core.display.Javascript object>"
      ]
     },
     "metadata": {},
     "output_type": "display_data"
    }
   ],
   "source": [
    "import os\n",
    "from datetime import date\n",
    "import seaborn as sns\n",
    "import sys\n",
    "from pathlib import Path\n",
    "# etc."
   ]
  },
  {
   "cell_type": "markdown",
   "metadata": {},
   "source": [
    "Load the Black extension to make your code look nice & let jupyter notbook print all stuff inline of the jupyter notebook. Set your working directory"
   ]
  },
  {
   "cell_type": "code",
   "execution_count": 7,
   "metadata": {},
   "outputs": [
    {
     "data": {
      "application/javascript": [
       "\n",
       "            setTimeout(function() {\n",
       "                var nbb_cell_id = 7;\n",
       "                var nbb_unformatted_code = \"%load_ext nb_black\\n%reload_ext nb_black\\n%matplotlib inline\\nsns.set(style=\\\"whitegrid\\\")\\nos.chdir(\\\"/home/jsmits\\\")\";\n",
       "                var nbb_formatted_code = \"%load_ext nb_black\\n%reload_ext nb_black\\n%matplotlib inline\\nsns.set(style=\\\"whitegrid\\\")\\nos.chdir(\\\"/home/jsmits\\\")\";\n",
       "                var nbb_cells = Jupyter.notebook.get_cells();\n",
       "                for (var i = 0; i < nbb_cells.length; ++i) {\n",
       "                    if (nbb_cells[i].input_prompt_number == nbb_cell_id) {\n",
       "                        if (nbb_cells[i].get_text() == nbb_unformatted_code) {\n",
       "                             nbb_cells[i].set_text(nbb_formatted_code);\n",
       "                        }\n",
       "                        break;\n",
       "                    }\n",
       "                }\n",
       "            }, 500);\n",
       "            "
      ],
      "text/plain": [
       "<IPython.core.display.Javascript object>"
      ]
     },
     "metadata": {},
     "output_type": "display_data"
    },
    {
     "data": {
      "application/javascript": [
       "\n",
       "            setTimeout(function() {\n",
       "                var nbb_cell_id = 7;\n",
       "                var nbb_unformatted_code = \"%load_ext nb_black\\n%reload_ext nb_black\\n%matplotlib inline\\nsns.set(style=\\\"whitegrid\\\")\\nos.chdir(\\\"/home/jsmits\\\")\";\n",
       "                var nbb_formatted_code = \"%load_ext nb_black\\n%reload_ext nb_black\\n%matplotlib inline\\nsns.set(style=\\\"whitegrid\\\")\\nos.chdir(\\\"/home/jsmits\\\")\";\n",
       "                var nbb_cells = Jupyter.notebook.get_cells();\n",
       "                for (var i = 0; i < nbb_cells.length; ++i) {\n",
       "                    if (nbb_cells[i].input_prompt_number == nbb_cell_id) {\n",
       "                        if (nbb_cells[i].get_text() == nbb_unformatted_code) {\n",
       "                             nbb_cells[i].set_text(nbb_formatted_code);\n",
       "                        }\n",
       "                        break;\n",
       "                    }\n",
       "                }\n",
       "            }, 500);\n",
       "            "
      ],
      "text/plain": [
       "<IPython.core.display.Javascript object>"
      ]
     },
     "metadata": {},
     "output_type": "display_data"
    }
   ],
   "source": [
    "%load_ext nb_black\n",
    "%reload_ext nb_black\n",
    "%matplotlib inline\n",
    "sns.set(style=\"whitegrid\")\n",
    "os.chdir(\"cookiecutter.project_name\")"
   ]
  },
  {
   "cell_type": "markdown",
   "metadata": {},
   "source": [
    "Load costum written functions"
   ]
  },
  {
   "cell_type": "code",
   "execution_count": null,
   "metadata": {},
   "outputs": [],
   "source": [
    "scripts_dir = os.getcwd() + \"/analysis/\"\n",
    "sys.path.append(f\"{scripts_dir}\")\n",
    "from Python_scripts import genome_TSS_annotation\n",
    "#etc."
   ]
  },
  {
   "cell_type": "markdown",
   "metadata": {},
   "source": [
    "Define potentiall functions:"
   ]
  },
  {
   "cell_type": "code",
   "execution_count": 13,
   "metadata": {},
   "outputs": [
    {
     "data": {
      "application/javascript": [
       "\n",
       "            setTimeout(function() {\n",
       "                var nbb_cell_id = 13;\n",
       "                var nbb_unformatted_code = \"def example_function(input):\\n    \\\"\\\"\\\"\\n    define possible functions only used in this analysis here\\n    input = input of the function\\n    \\\"\\\"\\\"\\n    output = input + 1\\n    return output\";\n",
       "                var nbb_formatted_code = \"def example_function(input):\\n    \\\"\\\"\\\"\\n    define possible functions only used in this analysis here\\n    input = input of the function\\n    \\\"\\\"\\\"\\n    output = input + 1\\n    return output\";\n",
       "                var nbb_cells = Jupyter.notebook.get_cells();\n",
       "                for (var i = 0; i < nbb_cells.length; ++i) {\n",
       "                    if (nbb_cells[i].input_prompt_number == nbb_cell_id) {\n",
       "                        if (nbb_cells[i].get_text() == nbb_unformatted_code) {\n",
       "                             nbb_cells[i].set_text(nbb_formatted_code);\n",
       "                        }\n",
       "                        break;\n",
       "                    }\n",
       "                }\n",
       "            }, 500);\n",
       "            "
      ],
      "text/plain": [
       "<IPython.core.display.Javascript object>"
      ]
     },
     "metadata": {},
     "output_type": "display_data"
    },
    {
     "data": {
      "application/javascript": [
       "\n",
       "            setTimeout(function() {\n",
       "                var nbb_cell_id = 13;\n",
       "                var nbb_unformatted_code = \"def example_function(input):\\n    \\\"\\\"\\\"\\n    define possible functions only used in this analysis here\\n    input = input of the function\\n    \\\"\\\"\\\"\\n    output = input + 1\\n    return output\";\n",
       "                var nbb_formatted_code = \"def example_function(input):\\n    \\\"\\\"\\\"\\n    define possible functions only used in this analysis here\\n    input = input of the function\\n    \\\"\\\"\\\"\\n    output = input + 1\\n    return output\";\n",
       "                var nbb_cells = Jupyter.notebook.get_cells();\n",
       "                for (var i = 0; i < nbb_cells.length; ++i) {\n",
       "                    if (nbb_cells[i].input_prompt_number == nbb_cell_id) {\n",
       "                        if (nbb_cells[i].get_text() == nbb_unformatted_code) {\n",
       "                             nbb_cells[i].set_text(nbb_formatted_code);\n",
       "                        }\n",
       "                        break;\n",
       "                    }\n",
       "                }\n",
       "            }, 500);\n",
       "            "
      ],
      "text/plain": [
       "<IPython.core.display.Javascript object>"
      ]
     },
     "metadata": {},
     "output_type": "display_data"
    }
   ],
   "source": [
    "def example_function(input):\n",
    "    \"\"\"\n",
    "    define possible functions only used in this analysis here\n",
    "    input = input of the function\n",
    "    \"\"\"\n",
    "    output = input + 1\n",
    "    return output"
   ]
  },
  {
   "cell_type": "markdown",
   "metadata": {},
   "source": [
    "Set and generate the:output dir,log dir and figure dir"
   ]
  },
  {
   "cell_type": "code",
   "execution_count": 10,
   "metadata": {},
   "outputs": [
    {
     "data": {
      "application/javascript": [
       "\n",
       "            setTimeout(function() {\n",
       "                var nbb_cell_id = 10;\n",
       "                var nbb_unformatted_code = \"# output dirs\\noutput_dir = os.getcwd() + \\\"/cookie_cutter/\\\" + str(date.today())\\nlog_dir = output_dir + \\\"/logs\\\"\\nfigure_dir = output_dir + \\\"/figures\\\"\\n\\nPath(output_dir).mkdir(parents=True, exist_ok=True)\\nPath(log_dir).mkdir(parents=True, exist_ok=True)\\nPath(figure_dir).mkdir(parents=True, exist_ok=True)\";\n",
       "                var nbb_formatted_code = \"# output dirs\\noutput_dir = os.getcwd() + \\\"/cookie_cutter/\\\" + str(date.today())\\nlog_dir = output_dir + \\\"/logs\\\"\\nfigure_dir = output_dir + \\\"/figures\\\"\\n\\nPath(output_dir).mkdir(parents=True, exist_ok=True)\\nPath(log_dir).mkdir(parents=True, exist_ok=True)\\nPath(figure_dir).mkdir(parents=True, exist_ok=True)\";\n",
       "                var nbb_cells = Jupyter.notebook.get_cells();\n",
       "                for (var i = 0; i < nbb_cells.length; ++i) {\n",
       "                    if (nbb_cells[i].input_prompt_number == nbb_cell_id) {\n",
       "                        if (nbb_cells[i].get_text() == nbb_unformatted_code) {\n",
       "                             nbb_cells[i].set_text(nbb_formatted_code);\n",
       "                        }\n",
       "                        break;\n",
       "                    }\n",
       "                }\n",
       "            }, 500);\n",
       "            "
      ],
      "text/plain": [
       "<IPython.core.display.Javascript object>"
      ]
     },
     "metadata": {},
     "output_type": "display_data"
    },
    {
     "data": {
      "application/javascript": [
       "\n",
       "            setTimeout(function() {\n",
       "                var nbb_cell_id = 10;\n",
       "                var nbb_unformatted_code = \"# output dirs\\noutput_dir = os.getcwd() + \\\"/cookie_cutter/\\\" + str(date.today())\\nlog_dir = output_dir + \\\"/logs\\\"\\nfigure_dir = output_dir + \\\"/figures\\\"\\n\\nPath(output_dir).mkdir(parents=True, exist_ok=True)\\nPath(log_dir).mkdir(parents=True, exist_ok=True)\\nPath(figure_dir).mkdir(parents=True, exist_ok=True)\";\n",
       "                var nbb_formatted_code = \"# output dirs\\noutput_dir = os.getcwd() + \\\"/cookie_cutter/\\\" + str(date.today())\\nlog_dir = output_dir + \\\"/logs\\\"\\nfigure_dir = output_dir + \\\"/figures\\\"\\n\\nPath(output_dir).mkdir(parents=True, exist_ok=True)\\nPath(log_dir).mkdir(parents=True, exist_ok=True)\\nPath(figure_dir).mkdir(parents=True, exist_ok=True)\";\n",
       "                var nbb_cells = Jupyter.notebook.get_cells();\n",
       "                for (var i = 0; i < nbb_cells.length; ++i) {\n",
       "                    if (nbb_cells[i].input_prompt_number == nbb_cell_id) {\n",
       "                        if (nbb_cells[i].get_text() == nbb_unformatted_code) {\n",
       "                             nbb_cells[i].set_text(nbb_formatted_code);\n",
       "                        }\n",
       "                        break;\n",
       "                    }\n",
       "                }\n",
       "            }, 500);\n",
       "            "
      ],
      "text/plain": [
       "<IPython.core.display.Javascript object>"
      ]
     },
     "metadata": {},
     "output_type": "display_data"
    }
   ],
   "source": [
    "# output dirs\n",
    "output_dir = os.getcwd() + \"/results/\" + str(date.today())\n",
    "log_dir = output_dir + \"/logs\"\n",
    "figure_dir = output_dir + \"/figures\"\n",
    "\n",
    "Path(output_dir).mkdir(parents=True, exist_ok=True)\n",
    "Path(log_dir).mkdir(parents=True, exist_ok=True)\n",
    "Path(figure_dir).mkdir(parents=True, exist_ok=True)"
   ]
  },
  {
   "cell_type": "markdown",
   "metadata": {},
   "source": [
    "Output the current conda environment including all the installed packages to a text file in the output dir"
   ]
  },
  {
   "cell_type": "code",
   "execution_count": 11,
   "metadata": {},
   "outputs": [
    {
     "data": {
      "application/javascript": [
       "\n",
       "            setTimeout(function() {\n",
       "                var nbb_cell_id = 11;\n",
       "                var nbb_unformatted_code = \"!~/anaconda3/condabin/conda list > {output_dir}/conda_env.txt\";\n",
       "                var nbb_formatted_code = \"!~/anaconda3/condabin/conda list > {output_dir}/conda_env.txt\";\n",
       "                var nbb_cells = Jupyter.notebook.get_cells();\n",
       "                for (var i = 0; i < nbb_cells.length; ++i) {\n",
       "                    if (nbb_cells[i].input_prompt_number == nbb_cell_id) {\n",
       "                        if (nbb_cells[i].get_text() == nbb_unformatted_code) {\n",
       "                             nbb_cells[i].set_text(nbb_formatted_code);\n",
       "                        }\n",
       "                        break;\n",
       "                    }\n",
       "                }\n",
       "            }, 500);\n",
       "            "
      ],
      "text/plain": [
       "<IPython.core.display.Javascript object>"
      ]
     },
     "metadata": {},
     "output_type": "display_data"
    },
    {
     "data": {
      "application/javascript": [
       "\n",
       "            setTimeout(function() {\n",
       "                var nbb_cell_id = 11;\n",
       "                var nbb_unformatted_code = \"!~/anaconda3/condabin/conda list > {output_dir}/conda_env.txt\";\n",
       "                var nbb_formatted_code = \"!~/anaconda3/condabin/conda list > {output_dir}/conda_env.txt\";\n",
       "                var nbb_cells = Jupyter.notebook.get_cells();\n",
       "                for (var i = 0; i < nbb_cells.length; ++i) {\n",
       "                    if (nbb_cells[i].input_prompt_number == nbb_cell_id) {\n",
       "                        if (nbb_cells[i].get_text() == nbb_unformatted_code) {\n",
       "                             nbb_cells[i].set_text(nbb_formatted_code);\n",
       "                        }\n",
       "                        break;\n",
       "                    }\n",
       "                }\n",
       "            }, 500);\n",
       "            "
      ],
      "text/plain": [
       "<IPython.core.display.Javascript object>"
      ]
     },
     "metadata": {},
     "output_type": "display_data"
    }
   ],
   "source": [
    "!~/anaconda3/condabin/conda list > {output_dir}/conda_env.txt"
   ]
  },
  {
   "cell_type": "markdown",
   "metadata": {},
   "source": [
    "### Set Variables for the analysis"
   ]
  },
  {
   "cell_type": "code",
   "execution_count": 12,
   "metadata": {},
   "outputs": [
    {
     "data": {
      "application/javascript": [
       "\n",
       "            setTimeout(function() {\n",
       "                var nbb_cell_id = 12;\n",
       "                var nbb_unformatted_code = \"var1 = 'hello'\\nvar2 = 'world'\";\n",
       "                var nbb_formatted_code = \"var1 = \\\"hello\\\"\\nvar2 = \\\"world\\\"\";\n",
       "                var nbb_cells = Jupyter.notebook.get_cells();\n",
       "                for (var i = 0; i < nbb_cells.length; ++i) {\n",
       "                    if (nbb_cells[i].input_prompt_number == nbb_cell_id) {\n",
       "                        if (nbb_cells[i].get_text() == nbb_unformatted_code) {\n",
       "                             nbb_cells[i].set_text(nbb_formatted_code);\n",
       "                        }\n",
       "                        break;\n",
       "                    }\n",
       "                }\n",
       "            }, 500);\n",
       "            "
      ],
      "text/plain": [
       "<IPython.core.display.Javascript object>"
      ]
     },
     "metadata": {},
     "output_type": "display_data"
    },
    {
     "data": {
      "application/javascript": [
       "\n",
       "            setTimeout(function() {\n",
       "                var nbb_cell_id = 12;\n",
       "                var nbb_unformatted_code = \"var1 = 'hello'\\nvar2 = 'world'\";\n",
       "                var nbb_formatted_code = \"var1 = \\\"hello\\\"\\nvar2 = \\\"world\\\"\";\n",
       "                var nbb_cells = Jupyter.notebook.get_cells();\n",
       "                for (var i = 0; i < nbb_cells.length; ++i) {\n",
       "                    if (nbb_cells[i].input_prompt_number == nbb_cell_id) {\n",
       "                        if (nbb_cells[i].get_text() == nbb_unformatted_code) {\n",
       "                             nbb_cells[i].set_text(nbb_formatted_code);\n",
       "                        }\n",
       "                        break;\n",
       "                    }\n",
       "                }\n",
       "            }, 500);\n",
       "            "
      ],
      "text/plain": [
       "<IPython.core.display.Javascript object>"
      ]
     },
     "metadata": {},
     "output_type": "display_data"
    }
   ],
   "source": [
    "var1 = \"hello\"\n",
    "var2 = \"world\""
   ]
  },
  {
   "cell_type": "markdown",
   "metadata": {},
   "source": [
    "Load your data:"
   ]
  },
  {
   "cell_type": "code",
   "execution_count": null,
   "metadata": {},
   "outputs": [],
   "source": [
    "# location chromsizes file\n",
    "datafile_1 = os.getcwd() + \"/data/file_1.bam\"\n",
    "datafile_2 = os.getcwd() + \"/data/file_2.bam\""
   ]
  }
 ],
 "metadata": {
  "kernelspec": {
   "display_name": "Python 3",
   "language": "python",
   "name": "python3"
  },
  "language_info": {
   "codemirror_mode": {
    "name": "ipython",
    "version": 3
   },
   "file_extension": ".py",
   "mimetype": "text/x-python",
   "name": "python",
   "nbconvert_exporter": "python",
   "pygments_lexer": "ipython3",
   "version": "3.7.6"
  }
 },
 "nbformat": 4,
 "nbformat_minor": 4
}
